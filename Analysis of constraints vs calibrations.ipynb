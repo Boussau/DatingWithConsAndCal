{
 "cells": [
  {
   "cell_type": "code",
   "execution_count": 1,
   "metadata": {},
   "outputs": [],
   "source": [
    "import sys\n",
    "import numpy as np\n",
    "import pandas as pd\n",
    "import matplotlib.pyplot as plt\n",
    "from pylab import rcParams\n",
    "import matplotlib\n",
    "import seaborn as sns\n",
    "import scipy\n",
    "\n",
    "\n",
    "from IPython.display import HTML\n",
    "plt.rcParams['figure.figsize'] = [20, 10]"
   ]
  },
  {
   "cell_type": "markdown",
   "metadata": {},
   "source": [
    "# Assessing the relative impacts of constraints and calibrations on dating accuracy"
   ]
  },
  {
   "cell_type": "raw",
   "metadata": {},
   "source": []
  },
  {
   "cell_type": "markdown",
   "metadata": {},
   "source": [
    "## Analysis of MCMC runs on simulated data. \n",
    "The simulation was performed on one tree, used to generate an alignment of 1000 bases. We gathered 10 calibration points, in a balanced or unbalanced way, and up to 15 constraints (0, 1, 5, 10, 15, plus those in between). We ran the MCMC in each combination of conditions (16 x 2=32 combinations). Then we also investigated informative vs uninformative constraints, yielding two additional analyses. So in total we have $32 + 2=34 different analyses$."
   ]
  },
  {
   "cell_type": "markdown",
   "metadata": {},
   "source": [
    "# Plot of the chronogram and the tree with altered branch lengths"
   ]
  },
  {
   "cell_type": "code",
   "execution_count": 2,
   "metadata": {},
   "outputs": [],
   "source": [
    "from ete3 import Tree, TreeStyle, NodeStyle\n",
    "\n",
    "def readTreeFromFile(file):\n",
    "    try:\n",
    "        f=open(file, 'r')\n",
    "    except IOError:\n",
    "        print (\"Unknown file: \"+file)\n",
    "        sys.exit()\n",
    "\n",
    "    line = \"\"\n",
    "    for l in f:\n",
    "        line += l.strip()\n",
    "    \n",
    "    f.close()\n",
    "    t = Tree( line )\n",
    "    return t\n",
    "\n",
    "# chronograms:\n",
    "files = [\"SimulatedTrees/proposedTree.dnd\"]\n",
    "\n",
    "ts = TreeStyle()\n",
    "ts.min_leaf_separation= 10\n",
    "ts.scale = 2020\n",
    "ts.show_leaf_name = False\n",
    "nstyle = NodeStyle()\n",
    "nstyle[\"size\"] = 0\n",
    "\n",
    "thickness = 1\n",
    "vt_line_width =  2\n",
    "hz_line_width =  2\n",
    "\n",
    "ts.scale =  thickness * 2400 # 120 pixels per branch length unit\n",
    "#ts.min_leaf_separation= 10\n",
    "ts.show_scale = False\n",
    "\n",
    "trees = list()\n",
    "i = 0\n",
    "for f in files:\n",
    "    trees.append(readTreeFromFile(f))\n",
    "    for n in trees[i].traverse():\n",
    "       n.set_style(nstyle)\n",
    "    trees[i].render(\"proposedTree_\"+str(i+1)+\".png\", tree_style=ts)\n",
    "    i = i +1\n",
    "\n",
    "    \n",
    "    \n",
    "# rescaled trees:\n",
    "files = [\"SimulatedTrees/proposedTree_rescaled_altered.dnd\"]\n",
    "\n",
    "ts = TreeStyle()\n",
    "ts.min_leaf_separation= 10\n",
    "ts.scale = 2020 \n",
    "ts.show_leaf_name = False\n",
    "nstyle = NodeStyle()\n",
    "nstyle[\"size\"] = 0\n",
    "\n",
    "thickness = 1\n",
    "vt_line_width =  2\n",
    "hz_line_width =  2\n",
    "\n",
    "ts.scale =  thickness * 2400 # 120 pixels per branch length unit\n",
    "#ts.min_leaf_separation= 10\n",
    "#ts.show_scale = False\n",
    "\n",
    "trees = list()\n",
    "i = 0\n",
    "for f in files:\n",
    "    trees.append(readTreeFromFile(f))\n",
    "    for n in trees[i].traverse():\n",
    "       n.set_style(nstyle)\n",
    "    trees[i].render(\"proposedTree_\"+str(i+1)+\"_rescaled_altered.png\", tree_style=ts)\n",
    "    i = i +1\n"
   ]
  },
  {
   "cell_type": "markdown",
   "metadata": {},
   "source": [
    "## Reading the data"
   ]
  },
  {
   "cell_type": "code",
   "execution_count": 3,
   "metadata": {},
   "outputs": [],
   "source": [
    "colNames = [\"TreeId\", \"numCalib\", \"numCons\", \"balanced\", \"old_biased\", \"correlation\", \"rmsd\", \"rmsd_norm\", \"correlation_bl\", \"rmsd_bl\", \"num_nodes\", \"numInHPD\", \"fracInHPD\", \"percent0\", \"percent25\", \"percent50\", \"percents75\", \"percent100\"]\n",
    "d = pd.read_csv (\"resultAllTreesExcerpt.txt\", sep=\"\\t\", header=None, names=colNames)\n"
   ]
  },
  {
   "cell_type": "code",
   "execution_count": 4,
   "metadata": {},
   "outputs": [
    {
     "name": "stdout",
     "output_type": "stream",
     "text": [
      "          TreeId  numCalib  numCons balanced old_biased  correlation  \\\n",
      "0  cons_BD_UGAMr        10        0        n          y     0.577362   \n",
      "1  cons_BD_UGAMr        10        1        n          y     0.576741   \n",
      "2  cons_BD_UGAMr        10        2        n          y     0.579568   \n",
      "3  cons_BD_UGAMr        10        3        n          y     0.578214   \n",
      "4  cons_BD_UGAMr        10        4        n          y     0.577387   \n",
      "\n",
      "       rmsd  rmsd_norm  correlation_bl   rmsd_bl  num_nodes  numInHPD  \\\n",
      "0  7.315490   0.576587        0.216742  5.243984        101      60.0   \n",
      "1  7.383646   0.575856        0.211826  5.282063        101      60.0   \n",
      "2  7.411365   0.567655        0.222744  5.305511        101      58.0   \n",
      "3  7.410771   0.568828        0.232925  5.259650        101      60.0   \n",
      "4  7.291502   0.556470        0.240357  5.099882        101      57.0   \n",
      "\n",
      "   fracInHPD  percent0  percent25  percent50  percents75  percent100  \n",
      "0  59.405941   6.45626  12.644574  14.725576   17.342968    21.32798  \n",
      "1  59.405941   6.06741  11.698862  13.991644   16.653640    21.00720  \n",
      "2  57.425743   6.71309  11.941897  14.205314   16.724396    20.92208  \n",
      "3  59.405941   6.14128  11.762812  13.814050   15.522978    19.80572  \n",
      "4  56.435644   6.29121  11.941270  13.886120   16.532960    21.95618  \n"
     ]
    }
   ],
   "source": [
    "print(d.head())"
   ]
  },
  {
   "cell_type": "code",
   "execution_count": 5,
   "metadata": {},
   "outputs": [
    {
     "data": {
      "text/html": [
       "<div>\n",
       "<style scoped>\n",
       "    .dataframe tbody tr th:only-of-type {\n",
       "        vertical-align: middle;\n",
       "    }\n",
       "\n",
       "    .dataframe tbody tr th {\n",
       "        vertical-align: top;\n",
       "    }\n",
       "\n",
       "    .dataframe thead th {\n",
       "        text-align: right;\n",
       "    }\n",
       "</style>\n",
       "<table border=\"1\" class=\"dataframe\">\n",
       "  <thead>\n",
       "    <tr style=\"text-align: right;\">\n",
       "      <th></th>\n",
       "      <th>numCalib</th>\n",
       "      <th>numCons</th>\n",
       "      <th>correlation</th>\n",
       "      <th>rmsd</th>\n",
       "      <th>rmsd_norm</th>\n",
       "      <th>correlation_bl</th>\n",
       "      <th>rmsd_bl</th>\n",
       "      <th>num_nodes</th>\n",
       "      <th>numInHPD</th>\n",
       "      <th>fracInHPD</th>\n",
       "      <th>percent0</th>\n",
       "      <th>percent25</th>\n",
       "      <th>percent50</th>\n",
       "      <th>percents75</th>\n",
       "      <th>percent100</th>\n",
       "    </tr>\n",
       "  </thead>\n",
       "  <tbody>\n",
       "    <tr>\n",
       "      <th>count</th>\n",
       "      <td>32.0</td>\n",
       "      <td>32.000000</td>\n",
       "      <td>32.000000</td>\n",
       "      <td>32.000000</td>\n",
       "      <td>32.000000</td>\n",
       "      <td>32.000000</td>\n",
       "      <td>32.000000</td>\n",
       "      <td>32.0</td>\n",
       "      <td>32.000000</td>\n",
       "      <td>32.000000</td>\n",
       "      <td>32.000000</td>\n",
       "      <td>32.000000</td>\n",
       "      <td>32.000000</td>\n",
       "      <td>32.000000</td>\n",
       "      <td>32.000000</td>\n",
       "    </tr>\n",
       "    <tr>\n",
       "      <th>mean</th>\n",
       "      <td>10.0</td>\n",
       "      <td>7.500000</td>\n",
       "      <td>0.719392</td>\n",
       "      <td>5.917174</td>\n",
       "      <td>0.444172</td>\n",
       "      <td>0.220698</td>\n",
       "      <td>5.367783</td>\n",
       "      <td>101.0</td>\n",
       "      <td>65.156250</td>\n",
       "      <td>64.511139</td>\n",
       "      <td>6.400963</td>\n",
       "      <td>10.768046</td>\n",
       "      <td>12.967671</td>\n",
       "      <td>14.596395</td>\n",
       "      <td>20.024583</td>\n",
       "    </tr>\n",
       "    <tr>\n",
       "      <th>std</th>\n",
       "      <td>0.0</td>\n",
       "      <td>4.683533</td>\n",
       "      <td>0.098695</td>\n",
       "      <td>1.020650</td>\n",
       "      <td>0.087299</td>\n",
       "      <td>0.047140</td>\n",
       "      <td>0.154892</td>\n",
       "      <td>0.0</td>\n",
       "      <td>4.480131</td>\n",
       "      <td>4.435773</td>\n",
       "      <td>0.187799</td>\n",
       "      <td>0.935305</td>\n",
       "      <td>0.999032</td>\n",
       "      <td>1.513859</td>\n",
       "      <td>0.991679</td>\n",
       "    </tr>\n",
       "    <tr>\n",
       "      <th>min</th>\n",
       "      <td>10.0</td>\n",
       "      <td>0.000000</td>\n",
       "      <td>0.572987</td>\n",
       "      <td>4.702269</td>\n",
       "      <td>0.352921</td>\n",
       "      <td>0.157364</td>\n",
       "      <td>5.099882</td>\n",
       "      <td>101.0</td>\n",
       "      <td>57.000000</td>\n",
       "      <td>56.435644</td>\n",
       "      <td>6.008350</td>\n",
       "      <td>9.588974</td>\n",
       "      <td>11.640280</td>\n",
       "      <td>12.591160</td>\n",
       "      <td>17.189488</td>\n",
       "    </tr>\n",
       "    <tr>\n",
       "      <th>25%</th>\n",
       "      <td>10.0</td>\n",
       "      <td>3.750000</td>\n",
       "      <td>0.582214</td>\n",
       "      <td>5.335772</td>\n",
       "      <td>0.385340</td>\n",
       "      <td>0.191653</td>\n",
       "      <td>5.244845</td>\n",
       "      <td>101.0</td>\n",
       "      <td>60.750000</td>\n",
       "      <td>60.148515</td>\n",
       "      <td>6.287305</td>\n",
       "      <td>10.107288</td>\n",
       "      <td>12.200520</td>\n",
       "      <td>13.560859</td>\n",
       "      <td>19.439927</td>\n",
       "    </tr>\n",
       "    <tr>\n",
       "      <th>50%</th>\n",
       "      <td>10.0</td>\n",
       "      <td>7.500000</td>\n",
       "      <td>0.772469</td>\n",
       "      <td>5.418608</td>\n",
       "      <td>0.398840</td>\n",
       "      <td>0.202582</td>\n",
       "      <td>5.366678</td>\n",
       "      <td>101.0</td>\n",
       "      <td>66.500000</td>\n",
       "      <td>65.841584</td>\n",
       "      <td>6.399844</td>\n",
       "      <td>10.404842</td>\n",
       "      <td>12.645360</td>\n",
       "      <td>13.983962</td>\n",
       "      <td>19.806040</td>\n",
       "    </tr>\n",
       "    <tr>\n",
       "      <th>75%</th>\n",
       "      <td>10.0</td>\n",
       "      <td>11.250000</td>\n",
       "      <td>0.776162</td>\n",
       "      <td>7.285583</td>\n",
       "      <td>0.557089</td>\n",
       "      <td>0.234783</td>\n",
       "      <td>5.498725</td>\n",
       "      <td>101.0</td>\n",
       "      <td>69.000000</td>\n",
       "      <td>68.316832</td>\n",
       "      <td>6.539308</td>\n",
       "      <td>11.792485</td>\n",
       "      <td>13.892550</td>\n",
       "      <td>16.246092</td>\n",
       "      <td>20.591425</td>\n",
       "    </tr>\n",
       "    <tr>\n",
       "      <th>max</th>\n",
       "      <td>10.0</td>\n",
       "      <td>15.000000</td>\n",
       "      <td>0.820326</td>\n",
       "      <td>7.428161</td>\n",
       "      <td>0.581940</td>\n",
       "      <td>0.319960</td>\n",
       "      <td>5.647191</td>\n",
       "      <td>101.0</td>\n",
       "      <td>71.000000</td>\n",
       "      <td>70.297030</td>\n",
       "      <td>6.875693</td>\n",
       "      <td>12.644574</td>\n",
       "      <td>15.176350</td>\n",
       "      <td>17.536200</td>\n",
       "      <td>22.440400</td>\n",
       "    </tr>\n",
       "  </tbody>\n",
       "</table>\n",
       "</div>"
      ],
      "text/plain": [
       "       numCalib    numCons  correlation       rmsd  rmsd_norm  correlation_bl  \\\n",
       "count      32.0  32.000000    32.000000  32.000000  32.000000       32.000000   \n",
       "mean       10.0   7.500000     0.719392   5.917174   0.444172        0.220698   \n",
       "std         0.0   4.683533     0.098695   1.020650   0.087299        0.047140   \n",
       "min        10.0   0.000000     0.572987   4.702269   0.352921        0.157364   \n",
       "25%        10.0   3.750000     0.582214   5.335772   0.385340        0.191653   \n",
       "50%        10.0   7.500000     0.772469   5.418608   0.398840        0.202582   \n",
       "75%        10.0  11.250000     0.776162   7.285583   0.557089        0.234783   \n",
       "max        10.0  15.000000     0.820326   7.428161   0.581940        0.319960   \n",
       "\n",
       "         rmsd_bl  num_nodes   numInHPD  fracInHPD   percent0  percent25  \\\n",
       "count  32.000000       32.0  32.000000  32.000000  32.000000  32.000000   \n",
       "mean    5.367783      101.0  65.156250  64.511139   6.400963  10.768046   \n",
       "std     0.154892        0.0   4.480131   4.435773   0.187799   0.935305   \n",
       "min     5.099882      101.0  57.000000  56.435644   6.008350   9.588974   \n",
       "25%     5.244845      101.0  60.750000  60.148515   6.287305  10.107288   \n",
       "50%     5.366678      101.0  66.500000  65.841584   6.399844  10.404842   \n",
       "75%     5.498725      101.0  69.000000  68.316832   6.539308  11.792485   \n",
       "max     5.647191      101.0  71.000000  70.297030   6.875693  12.644574   \n",
       "\n",
       "       percent50  percents75  percent100  \n",
       "count  32.000000   32.000000   32.000000  \n",
       "mean   12.967671   14.596395   20.024583  \n",
       "std     0.999032    1.513859    0.991679  \n",
       "min    11.640280   12.591160   17.189488  \n",
       "25%    12.200520   13.560859   19.439927  \n",
       "50%    12.645360   13.983962   19.806040  \n",
       "75%    13.892550   16.246092   20.591425  \n",
       "max    15.176350   17.536200   22.440400  "
      ]
     },
     "execution_count": 5,
     "metadata": {},
     "output_type": "execute_result"
    }
   ],
   "source": [
    "d.describe()\n"
   ]
  },
  {
   "cell_type": "markdown",
   "metadata": {},
   "source": [
    "## Analysis of the impact of constraints\n",
    "In the following 6 plots, we investigate the impact of constraints."
   ]
  },
  {
   "cell_type": "code",
   "execution_count": 6,
   "metadata": {},
   "outputs": [
    {
     "data": {
      "text/plain": [
       "Text(0, 0.5, 'Correlation in branch lengths')"
      ]
     },
     "execution_count": 6,
     "metadata": {},
     "output_type": "execute_result"
    },
    {
     "data": {
      "image/png": "[encoded data removed]",
      "text/plain": [
       "<Figure size 720x360 with 1 Axes>"
      ]
     },
     "metadata": {
      "needs_background": "light"
     },
     "output_type": "display_data"
    }
   ],
   "source": [
    "%matplotlib inline\n",
    "\n",
    "fontsize=15\n",
    "\n",
    "fig, ax = plt.subplots(figsize=(10, 5))\n",
    "sns.set_style(\"whitegrid\")\n",
    "sns.set_context(\"paper\", font_scale=1.5)\n",
    "ax = sns.scatterplot(d[\"numCons\"], y=d[\"correlation_bl\"], color=\"white\", edgecolor=\"gray\", hue=d[\"balanced\"])\n",
    "ax.set_xlabel('Number of constraints')\n",
    "ax.set_ylabel('Correlation in branch lengths')\n",
    "\n"
   ]
  },
  {
   "cell_type": "code",
   "execution_count": 7,
   "metadata": {},
   "outputs": [
    {
     "data": {
      "text/plain": [
       "[Text(0, 0.5, 'RMSD of branch lengths'), Text(0.5, 0, 'Number of constraints')]"
      ]
     },
     "execution_count": 7,
     "metadata": {},
     "output_type": "execute_result"
    },
    {
     "data": {
      "image/png": "[encoded data removed]",
      "text/plain": [
       "<Figure size 720x360 with 1 Axes>"
      ]
     },
     "metadata": {
      "needs_background": "light"
     },
     "output_type": "display_data"
    }
   ],
   "source": [
    "%matplotlib inline\n",
    "fig, ax = plt.subplots(figsize=(10, 5))\n",
    "sns.set_style(\"whitegrid\")\n",
    "sns.set_context(\"paper\", font_scale=1.5)\n",
    "ax = sns.scatterplot(d[\"numCons\"], y=d[\"rmsd_bl\"], color=\"white\", edgecolor=\"gray\", hue=d[\"balanced\"])\n",
    "ax.set(xlabel='Number of constraints', ylabel='RMSD of branch lengths')"
   ]
  },
  {
   "cell_type": "code",
   "execution_count": 8,
   "metadata": {},
   "outputs": [
    {
     "data": {
      "text/plain": [
       "[Text(0, 0.5, 'RMSD of node ages'), Text(0.5, 0, 'Number of constraints')]"
      ]
     },
     "execution_count": 8,
     "metadata": {},
     "output_type": "execute_result"
    },
    {
     "data": {
      "image/png": "[encoded data removed]",
      "text/plain": [
       "<Figure size 720x360 with 1 Axes>"
      ]
     },
     "metadata": {
      "needs_background": "light"
     },
     "output_type": "display_data"
    }
   ],
   "source": [
    "%matplotlib inline\n",
    "fig, ax = plt.subplots(figsize=(10, 5))\n",
    "sns.set_style(\"whitegrid\")\n",
    "sns.set_context(\"paper\", font_scale=1.5)\n",
    "ax = sns.scatterplot(d[\"numCons\"], y=d[\"rmsd\"], color=\"white\", edgecolor=\"gray\", hue=d[\"balanced\"])\n",
    "ax.set(xlabel='Number of constraints', ylabel='RMSD of node ages')\n"
   ]
  },
  {
   "cell_type": "code",
   "execution_count": 9,
   "metadata": {},
   "outputs": [
    {
     "data": {
      "text/plain": [
       "[Text(0, 0.5, 'Normalized RMSD of node ages (%)'),\n",
       " Text(0.5, 0, 'Number of constraints')]"
      ]
     },
     "execution_count": 9,
     "metadata": {},
     "output_type": "execute_result"
    },
    {
     "data": {
      "image/png": "[encoded data removed]",
      "text/plain": [
       "<Figure size 720x360 with 1 Axes>"
      ]
     },
     "metadata": {
      "needs_background": "light"
     },
     "output_type": "display_data"
    }
   ],
   "source": [
    "%matplotlib inline\n",
    "fig, ax = plt.subplots(figsize=(10, 5))\n",
    "sns.set_style(\"whitegrid\")\n",
    "sns.set_context(\"paper\", font_scale=1.5)\n",
    "ax = sns.scatterplot(d[\"numCons\"], y=100*d[\"rmsd_norm\"], color=\"white\", edgecolor=\"gray\", hue=d[\"balanced\"])\n",
    "ax.set(xlabel='Number of constraints', ylabel='Normalized RMSD of node ages (%)')"
   ]
  },
  {
   "cell_type": "code",
   "execution_count": 10,
   "metadata": {},
   "outputs": [
    {
     "data": {
      "text/plain": [
       "[Text(0, 0.5, 'Correlation with true dates'),\n",
       " Text(0.5, 0, 'Number of constraints')]"
      ]
     },
     "execution_count": 10,
     "metadata": {},
     "output_type": "execute_result"
    },
    {
     "data": {
      "image/png": "[encoded data removed]",
      "text/plain": [
       "<Figure size 720x360 with 1 Axes>"
      ]
     },
     "metadata": {
      "needs_background": "light"
     },
     "output_type": "display_data"
    }
   ],
   "source": [
    "%matplotlib inline\n",
    "fig, ax = plt.subplots(figsize=(10, 5))\n",
    "sns.set_style(\"whitegrid\")\n",
    "sns.set_context(\"paper\", font_scale=1.5)\n",
    "ax = sns.scatterplot(d[\"numCons\"], y=d[\"correlation\"], color=\"white\", edgecolor=\"gray\", hue=d[\"balanced\"])\n",
    "ax.set(xlabel='Number of constraints', ylabel='Correlation with true dates')"
   ]
  },
  {
   "cell_type": "code",
   "execution_count": 11,
   "metadata": {},
   "outputs": [
    {
     "data": {
      "text/plain": [
       "[Text(0, 0.5, 'Fraction of dates in 95% HPD (%)'),\n",
       " Text(0.5, 0, 'Number of constraints')]"
      ]
     },
     "execution_count": 11,
     "metadata": {},
     "output_type": "execute_result"
    },
    {
     "data": {
      "image/png": "[encoded data removed]",
      "text/plain": [
       "<Figure size 720x360 with 1 Axes>"
      ]
     },
     "metadata": {
      "needs_background": "light"
     },
     "output_type": "display_data"
    }
   ],
   "source": [
    "%matplotlib inline\n",
    "fig, ax = plt.subplots(figsize=(10, 5))\n",
    "sns.set_style(\"whitegrid\")\n",
    "sns.set_context(\"paper\", font_scale=1.5)\n",
    "ax = sns.scatterplot(d[\"numCons\"], y=d[\"fracInHPD\"], color=\"white\", edgecolor=\"gray\", hue=d[\"balanced\"])\n",
    "ax.set(xlabel='Number of constraints', ylabel='Fraction of dates in 95% HPD (%)')"
   ]
  },
  {
   "cell_type": "code",
   "execution_count": 12,
   "metadata": {},
   "outputs": [
    {
     "data": {
      "text/plain": [
       "[Text(0, 0.5, 'Median size of the 95% HPD'),\n",
       " Text(0.5, 0, 'Number of constraints')]"
      ]
     },
     "execution_count": 12,
     "metadata": {},
     "output_type": "execute_result"
    },
    {
     "data": {
      "image/png": "[encoded data removed]",
      "text/plain": [
       "<Figure size 720x360 with 1 Axes>"
      ]
     },
     "metadata": {
      "needs_background": "light"
     },
     "output_type": "display_data"
    }
   ],
   "source": [
    "%matplotlib inline\n",
    "fig, ax = plt.subplots(figsize=(10, 5))\n",
    "sns.set_style(\"whitegrid\")\n",
    "sns.set_context(\"paper\", font_scale=1.5)\n",
    "ax = sns.scatterplot(d[\"numCons\"], y=d[\"percent50\"], color=\"white\", edgecolor=\"gray\", hue=d[\"balanced\"])\n",
    "ax.set(xlabel='Number of constraints', ylabel='Median size of the 95% HPD')"
   ]
  },
  {
   "cell_type": "markdown",
   "metadata": {},
   "source": [
    "### Partial conclusion on the above\n",
    "As the number of constraints increases from 0 to 15, the accuracy of the reconstruction improves, despite smaller 95%HPD. Using all constraints available, we usually get better results, and smaller 95%HPD."
   ]
  },
  {
   "cell_type": "markdown",
   "metadata": {},
   "source": [
    "## Analysis of proximal vs distal constraints"
   ]
  },
  {
   "cell_type": "code",
   "execution_count": 13,
   "metadata": {},
   "outputs": [],
   "source": [
    "d = pd.read_csv (\"resultAllTreesProxiDistExcerptWith0Constraint.txt\", sep=\"\\t\", header=None, names=colNames)\n"
   ]
  },
  {
   "cell_type": "code",
   "execution_count": 14,
   "metadata": {},
   "outputs": [
    {
     "name": "stderr",
     "output_type": "stream",
     "text": [
      "/home/boussau/anaconda3/lib/python3.7/site-packages/ipykernel_launcher.py:2: SettingWithCopyWarning: \n",
      "A value is trying to be set on a copy of a slice from a DataFrame\n",
      "\n",
      "See the caveats in the documentation: https://pandas.pydata.org/pandas-docs/stable/user_guide/indexing.html#returning-a-view-versus-a-copy\n",
      "  \n"
     ]
    }
   ],
   "source": [
    "indices = d['numCons']==\"info\"\n",
    "d['numCons'][indices]= \"proximal\" "
   ]
  },
  {
   "cell_type": "code",
   "execution_count": 15,
   "metadata": {},
   "outputs": [
    {
     "name": "stderr",
     "output_type": "stream",
     "text": [
      "/home/boussau/anaconda3/lib/python3.7/site-packages/ipykernel_launcher.py:2: SettingWithCopyWarning: \n",
      "A value is trying to be set on a copy of a slice from a DataFrame\n",
      "\n",
      "See the caveats in the documentation: https://pandas.pydata.org/pandas-docs/stable/user_guide/indexing.html#returning-a-view-versus-a-copy\n",
      "  \n"
     ]
    }
   ],
   "source": [
    "indices = d['numCons']==\"uninfo\"\n",
    "d['numCons'][indices]= \"distal\" "
   ]
  },
  {
   "cell_type": "code",
   "execution_count": 16,
   "metadata": {},
   "outputs": [
    {
     "data": {
      "text/plain": [
       "0           0\n",
       "1           0\n",
       "2    proximal\n",
       "3      distal\n",
       "4    proximal\n",
       "5      distal\n",
       "Name: numCons, dtype: object"
      ]
     },
     "execution_count": 16,
     "metadata": {},
     "output_type": "execute_result"
    }
   ],
   "source": [
    "d['numCons']"
   ]
  },
  {
   "cell_type": "code",
   "execution_count": 17,
   "metadata": {},
   "outputs": [
    {
     "data": {
      "text/plain": [
       "[Text(0, 0.5, 'Correlation in branch lengths'),\n",
       " Text(0.5, 0, 'Constraints used')]"
      ]
     },
     "execution_count": 17,
     "metadata": {},
     "output_type": "execute_result"
    },
    {
     "data": {
      "image/png": "[encoded data removed]",
      "text/plain": [
       "<Figure size 720x360 with 1 Axes>"
      ]
     },
     "metadata": {
      "needs_background": "light"
     },
     "output_type": "display_data"
    }
   ],
   "source": [
    "%matplotlib inline\n",
    "fig, ax = plt.subplots(figsize=(10, 5))\n",
    "sns.set_style(\"whitegrid\")\n",
    "sns.set_context(\"paper\", font_scale=1.5)\n",
    "ax = sns.scatterplot(d[\"numCons\"], y=d[\"correlation_bl\"], color=\"white\", edgecolor=\"gray\", hue=d[\"balanced\"])\n",
    "ax.set(xlabel='Constraints used', ylabel='Correlation in branch lengths')"
   ]
  },
  {
   "cell_type": "code",
   "execution_count": 18,
   "metadata": {},
   "outputs": [
    {
     "data": {
      "text/plain": [
       "[Text(0, 0.5, 'RMSD of branch lengths'), Text(0.5, 0, 'Constraints used')]"
      ]
     },
     "execution_count": 18,
     "metadata": {},
     "output_type": "execute_result"
    },
    {
     "data": {
      "image/png": "[encoded data removed]",
      "text/plain": [
       "<Figure size 720x360 with 1 Axes>"
      ]
     },
     "metadata": {
      "needs_background": "light"
     },
     "output_type": "display_data"
    }
   ],
   "source": [
    "%matplotlib inline\n",
    "fig, ax = plt.subplots(figsize=(10, 5))\n",
    "sns.set_style(\"whitegrid\")\n",
    "sns.set_context(\"paper\", font_scale=1.5)\n",
    "ax = sns.scatterplot(d[\"numCons\"], y=d[\"rmsd_bl\"], color=\"white\", edgecolor=\"gray\", hue=d[\"balanced\"])\n",
    "ax.set(xlabel='Constraints used', ylabel='RMSD of branch lengths')"
   ]
  },
  {
   "cell_type": "code",
   "execution_count": 19,
   "metadata": {},
   "outputs": [
    {
     "data": {
      "text/plain": [
       "[Text(0, 0.5, 'RMSD of node ages'), Text(0.5, 0, 'Constraints used')]"
      ]
     },
     "execution_count": 19,
     "metadata": {},
     "output_type": "execute_result"
    },
    {
     "data": {
      "image/png": "[encoded data removed]",
      "text/plain": [
       "<Figure size 720x360 with 1 Axes>"
      ]
     },
     "metadata": {
      "needs_background": "light"
     },
     "output_type": "display_data"
    }
   ],
   "source": [
    "%matplotlib inline\n",
    "fig, ax = plt.subplots(figsize=(10, 5))\n",
    "sns.set_style(\"whitegrid\")\n",
    "sns.set_context(\"paper\", font_scale=1.5)\n",
    "ax = sns.scatterplot(d[\"numCons\"], y=d[\"rmsd\"], color=\"white\", edgecolor=\"gray\", hue=d[\"balanced\"])\n",
    "ax.set(xlabel='Constraints used', ylabel='RMSD of node ages')"
   ]
  },
  {
   "cell_type": "code",
   "execution_count": 20,
   "metadata": {},
   "outputs": [
    {
     "data": {
      "text/plain": [
       "[Text(0, 0.5, 'Normalized RMSD of node ages (%)'),\n",
       " Text(0.5, 0, 'Constraints used')]"
      ]
     },
     "execution_count": 20,
     "metadata": {},
     "output_type": "execute_result"
    },
    {
     "data": {
      "image/png": "[encoded data removed]",
      "text/plain": [
       "<Figure size 720x360 with 1 Axes>"
      ]
     },
     "metadata": {
      "needs_background": "light"
     },
     "output_type": "display_data"
    }
   ],
   "source": [
    "%matplotlib inline\n",
    "fig, ax = plt.subplots(figsize=(10, 5))\n",
    "sns.set_style(\"whitegrid\")\n",
    "sns.set_context(\"paper\", font_scale=1.5)\n",
    "ax = sns.scatterplot(d[\"numCons\"], y=100*d[\"rmsd_norm\"], color=\"white\", edgecolor=\"gray\", hue=d[\"balanced\"])\n",
    "ax.set(xlabel='Constraints used', ylabel='Normalized RMSD of node ages (%)')"
   ]
  },
  {
   "cell_type": "code",
   "execution_count": 21,
   "metadata": {},
   "outputs": [
    {
     "data": {
      "text/plain": [
       "[Text(0, 0.5, 'Correlation with true dates'), Text(0.5, 0, 'Constraints used')]"
      ]
     },
     "execution_count": 21,
     "metadata": {},
     "output_type": "execute_result"
    },
    {
     "data": {
      "image/png": "[encoded data removed]",
      "text/plain": [
       "<Figure size 720x360 with 1 Axes>"
      ]
     },
     "metadata": {
      "needs_background": "light"
     },
     "output_type": "display_data"
    }
   ],
   "source": [
    "%matplotlib inline\n",
    "fig, ax = plt.subplots(figsize=(10, 5))\n",
    "sns.set_style(\"whitegrid\")\n",
    "sns.set_context(\"paper\", font_scale=1.5)\n",
    "ax = sns.scatterplot(d[\"numCons\"], y=d[\"correlation\"], color=\"white\", edgecolor=\"gray\", hue=d[\"balanced\"])\n",
    "ax.set(xlabel='Constraints used', ylabel='Correlation with true dates')"
   ]
  },
  {
   "cell_type": "code",
   "execution_count": 23,
   "metadata": {},
   "outputs": [
    {
     "data": {
      "text/plain": [
       "[Text(0, 0.5, 'Fraction of dates in 95% HPD (%)'),\n",
       " Text(0.5, 0, 'Constraints used')]"
      ]
     },
     "execution_count": 23,
     "metadata": {},
     "output_type": "execute_result"
    },
    {
     "data": {
      "image/png": "[encoded data removed]",
      "text/plain": [
       "<Figure size 720x360 with 1 Axes>"
      ]
     },
     "metadata": {
      "needs_background": "light"
     },
     "output_type": "display_data"
    }
   ],
   "source": [
    "%matplotlib inline\n",
    "fig, ax = plt.subplots(figsize=(10, 5))\n",
    "sns.set_style(\"whitegrid\")\n",
    "sns.set_context(\"paper\", font_scale=1.5)\n",
    "ax = sns.scatterplot(d[\"numCons\"], y=d[\"fracInHPD\"], color=\"white\", edgecolor=\"gray\", hue=d[\"balanced\"])\n",
    "ax.set(xlabel='Constraints used', ylabel='Fraction of dates in 95% HPD (%)')"
   ]
  },
  {
   "cell_type": "markdown",
   "metadata": {},
   "source": [
    "### Partial conclusion on the above\n",
    "It helps to have uninformative constraints much more than informative constraints (the name may need to change...). It is possible that constraints between nodes whose ages are similar (which I called informative) are in fact not very useful: it makes little difference to the ages of the nodes in the entire tree to know that A is slightly older than B. Constraints between nodes whose ages are very different make a difference: they forbid some dating configurations, which may have consequences over the whole tree. "
   ]
  },
  {
   "cell_type": "markdown",
   "metadata": {},
   "source": [
    "## OLD THINGS FROM THERE : DO NOT BOTHER READING IT.\n",
    "Analysis of the impact of calibrations\n",
    "In the following 6 plots, we investigate the impact of calibrations, not controlling for the number of constraints."
   ]
  },
  {
   "cell_type": "code",
   "execution_count": null,
   "metadata": {},
   "outputs": [],
   "source": [
    "%matplotlib inline\n",
    "sns.set_style(\"whitegrid\")\n",
    "ax = sns.violinplot(d[\"numCalib\"], y=d[\"rmsd_bl\"], inner=None)\n",
    "ax = sns.swarmplot(d[\"numCalib\"], y=d[\"rmsd_bl\"], color=\"white\", edgecolor=\"gray\")\n",
    "ax.set(xlabel='Number of calibrations', ylabel='RMSD of branch lengths')"
   ]
  },
  {
   "cell_type": "code",
   "execution_count": null,
   "metadata": {},
   "outputs": [],
   "source": [
    "%matplotlib inline\n",
    "sns.set_style(\"whitegrid\")\n",
    "ax = sns.violinplot(d[\"numCalib\"], y=d[\"correlation_bl\"], inner=None)\n",
    "ax = sns.swarmplot(d[\"numCalib\"], y=d[\"correlation_bl\"], color=\"white\", edgecolor=\"gray\")\n",
    "ax.set(xlabel='Number of calibrations', ylabel='Correlation in branch lengths')"
   ]
  },
  {
   "cell_type": "code",
   "execution_count": null,
   "metadata": {},
   "outputs": [],
   "source": [
    "%matplotlib inline\n",
    "sns.set_style(\"whitegrid\")\n",
    "ax = sns.violinplot(d[\"numCalib\"], y=d[\"rmsd\"], inner=None)\n",
    "ax = sns.swarmplot(d[\"numCalib\"], y=d[\"rmsd\"], color=\"white\", edgecolor=\"gray\")\n",
    "ax.set(xlabel='Number of calibrations', ylabel='RMSD of node ages')"
   ]
  },
  {
   "cell_type": "code",
   "execution_count": null,
   "metadata": {},
   "outputs": [],
   "source": [
    "%matplotlib inline\n",
    "sns.set_style(\"whitegrid\")\n",
    "ax = sns.violinplot(d[\"numCalib\"], y=d[\"correlation\"], inner=None)\n",
    "ax = sns.swarmplot(d[\"numCalib\"], y=d[\"correlation\"], color=\"white\", edgecolor=\"gray\")\n",
    "ax.set(xlabel='Number of calibrations', ylabel='Correlation with true dates')"
   ]
  },
  {
   "cell_type": "code",
   "execution_count": null,
   "metadata": {},
   "outputs": [],
   "source": [
    "%matplotlib inline\n",
    "sns.set_style(\"whitegrid\")\n",
    "ax = sns.violinplot(d[\"numCalib\"], y=d[\"fracInHPD\"], inner=None)\n",
    "ax = sns.swarmplot(d[\"numCalib\"], y=d[\"fracInHPD\"], color=\"white\", edgecolor=\"gray\")\n",
    "ax.set(xlabel='Number of calibrations', ylabel='Fraction in 95% HPD')"
   ]
  },
  {
   "cell_type": "code",
   "execution_count": null,
   "metadata": {},
   "outputs": [],
   "source": [
    "%matplotlib inline\n",
    "sns.set_style(\"whitegrid\")\n",
    "ax = sns.violinplot(d[\"numCalib\"], y=d[\"percent50\"], inner=None)\n",
    "ax = sns.swarmplot(d[\"numCalib\"], y=d[\"percent50\"], color=\"white\", edgecolor=\"gray\")\n",
    "ax.set(xlabel='Number of calibrations', ylabel='Median size of the 95% HPD')"
   ]
  },
  {
   "cell_type": "markdown",
   "metadata": {},
   "source": [
    "### Partial conclusion on the above\n",
    "As the number of calibrations increases from 0 to 5, the accuracy of the reconstruction improves, despite smaller 95%HPD. The effect of calibrations seems stronger than that of constraints."
   ]
  },
  {
   "cell_type": "markdown",
   "metadata": {},
   "source": [
    "## Let's look at constraints, controlling for calibrations\n",
    "In the following 10 plots, we separate the impacts of constraints and calibrations."
   ]
  },
  {
   "cell_type": "code",
   "execution_count": null,
   "metadata": {},
   "outputs": [],
   "source": [
    "%matplotlib inline\n",
    "ax = sns.barplot(hue=\"numCons\", y=\"rmsd_bl\", x=\"numCalib\", data=d)\n",
    "#ax.set_ylim(0.8, 1.0)\n",
    "ax.set(xlabel='Number of calibrations', ylabel='Average rmsd of branch lengths')\n",
    "# Put the legend out of the figure\n",
    "handles, labels = ax.get_legend_handles_labels()\n",
    "ax.legend(bbox_to_anchor=(1.05, 1), loc=2, borderaxespad=0., handles=handles, labels=[\"0 constraint\", \"1 constraint\", \"3 constraints\", \"5 constraints\",\"10 constraints\", \"20 constraints\",\"50 constraints\"])"
   ]
  },
  {
   "cell_type": "markdown",
   "metadata": {},
   "source": [
    "%matplotlib inline\n",
    "ax = sns.barplot(hue=\"numCons\", y=\"correlation_bl\", x=\"numCalib\", data=d)\n",
    "#ax.set_ylim(0.8, 1.0)\n",
    "ax.set(xlabel='Number of calibrations', ylabel='Average correlation in branch lengths')\n",
    "# Put the legend out of the figure\n",
    "handles, labels = ax.get_legend_handles_labels()\n",
    "ax.legend(bbox_to_anchor=(1.05, 1), loc=2, borderaxespad=0., handles=handles, labels=[\"0 constraint\", \"1 constraint\", \"3 constraints\", \"5 constraints\",\"10 constraints\", \"20 constraints\",\"50 constraints\"])"
   ]
  },
  {
   "cell_type": "code",
   "execution_count": null,
   "metadata": {},
   "outputs": [],
   "source": [
    "%matplotlib inline\n",
    "ax = sns.barplot(hue=\"numCons\", y=\"rmsd\", x=\"numCalib\", data=d)\n",
    "#ax.set_ylim(0.8, 1.0)\n",
    "ax.set(xlabel='Number of calibrations', ylabel='Average rmsd of node ages')\n",
    "# Put the legend out of the figure\n",
    "handles, labels = ax.get_legend_handles_labels()\n",
    "ax.legend(bbox_to_anchor=(1.05, 1), loc=2, borderaxespad=0., handles=handles, labels=[\"0 constraint\", \"1 constraint\", \"3 constraints\", \"5 constraints\",\"10 constraints\", \"20 constraints\",\"50 constraints\"])"
   ]
  },
  {
   "cell_type": "code",
   "execution_count": null,
   "metadata": {},
   "outputs": [],
   "source": [
    "%matplotlib inline\n",
    "ax = sns.barplot(hue=\"numCons\", y=\"correlation\", x=\"numCalib\", data=d)\n",
    "ax.set_ylim(0.8, 1.0)\n",
    "ax.set(xlabel='Number of calibrations', ylabel='Average correlation in node ages')\n",
    "# Put the legend out of the figure\n",
    "handles, labels = ax.get_legend_handles_labels()\n",
    "ax.legend(bbox_to_anchor=(1.05, 1), loc=2, borderaxespad=0., handles=handles, labels=[\"0 constraint\", \"1 constraint\", \"3 constraints\", \"5 constraints\",\"10 constraints\", \"20 constraints\",\"50 constraints\"])"
   ]
  },
  {
   "cell_type": "code",
   "execution_count": null,
   "metadata": {},
   "outputs": [],
   "source": [
    "%matplotlib inline\n",
    "ax = sns.barplot(hue=\"numCons\", y=\"fracInHPD\", x=\"numCalib\", data=d)\n",
    "ax.set_ylim(50, 90)\n",
    "ax.set(xlabel='Number of calibrations', ylabel='Average fraction in 95% HPD')\n",
    "# Put the legend out of the figure\n",
    "handles, labels = ax.get_legend_handles_labels()\n",
    "ax.legend(bbox_to_anchor=(1.05, 1), loc=2, borderaxespad=0., handles=handles, labels=[\"0 constraint\", \"1 constraint\", \"3 constraints\", \"5 constraints\",\"10 constraints\", \"20 constraints\",\"50 constraints\"])"
   ]
  },
  {
   "cell_type": "code",
   "execution_count": null,
   "metadata": {},
   "outputs": [],
   "source": [
    "%matplotlib inline\n",
    "ax = sns.barplot(hue=\"numCons\", y=\"percent0\", x=\"numCalib\", data=d)\n",
    "ax.set(xlabel='Number of calibrations', ylabel='Average smallest 95% HPD')\n",
    "# Put the legend out of the figure\n",
    "handles, labels = ax.get_legend_handles_labels()\n",
    "ax.legend(bbox_to_anchor=(1.05, 1), loc=2, borderaxespad=0., handles=handles, labels=[\"0 constraint\", \"1 constraint\", \"3 constraints\", \"5 constraints\",\"10 constraints\", \"20 constraints\",\"50 constraints\"])"
   ]
  },
  {
   "cell_type": "code",
   "execution_count": null,
   "metadata": {},
   "outputs": [],
   "source": [
    "%matplotlib inline\n",
    "ax = sns.barplot(hue=\"numCons\", y=\"percent25\", x=\"numCalib\", data=d)\n",
    "ax.set(xlabel='Number of calibrations', ylabel='Average 1st quartile 95% HPD')\n",
    "# Put the legend out of the figure\n",
    "handles, labels = ax.get_legend_handles_labels()\n",
    "ax.legend(bbox_to_anchor=(1.05, 1), loc=2, borderaxespad=0., handles=handles, labels=[\"0 constraint\", \"1 constraint\", \"3 constraints\", \"5 constraints\",\"10 constraints\", \"20 constraints\",\"50 constraints\"])"
   ]
  },
  {
   "cell_type": "code",
   "execution_count": null,
   "metadata": {},
   "outputs": [],
   "source": [
    "%matplotlib inline\n",
    "ax = sns.barplot(hue=\"numCons\", y=\"percent50\", x=\"numCalib\", data=d)\n",
    "ax.set(xlabel='Number of calibrations', ylabel='Average median 95% HPD')\n",
    "# Put the legend out of the figure\n",
    "handles, labels = ax.get_legend_handles_labels()\n",
    "ax.legend(bbox_to_anchor=(1.05, 1), loc=2, borderaxespad=0., handles=handles, labels=[\"0 constraint\", \"1 constraint\", \"3 constraints\", \"5 constraints\",\"10 constraints\", \"20 constraints\",\"50 constraints\"])"
   ]
  },
  {
   "cell_type": "code",
   "execution_count": null,
   "metadata": {},
   "outputs": [],
   "source": [
    "%matplotlib inline\n",
    "ax = sns.barplot(hue=\"numCons\", y=\"percent75\", x=\"numCalib\", data=d)\n",
    "ax.set(xlabel='Number of calibrations', ylabel='Average 3rd quartile 95% HPD')\n",
    "# Put the legend out of the figure\n",
    "handles, labels = ax.get_legend_handles_labels()\n",
    "ax.legend(bbox_to_anchor=(1.05, 1), loc=2, borderaxespad=0., handles=handles, labels=[\"0 constraint\", \"1 constraint\", \"3 constraints\", \"5 constraints\",\"10 constraints\", \"20 constraints\",\"50 constraints\"])"
   ]
  },
  {
   "cell_type": "code",
   "execution_count": null,
   "metadata": {},
   "outputs": [],
   "source": [
    "%matplotlib inline\n",
    "ax = sns.barplot(hue=\"numCons\", y=\"percent100\", x=\"numCalib\", data=d)\n",
    "ax.set(xlabel='Number of calibrations', ylabel='Average maximum 95% HPD')\n",
    "# Put the legend out of the figure\n",
    "handles, labels = ax.get_legend_handles_labels()\n",
    "ax.legend(bbox_to_anchor=(1.05, 1), loc=2, borderaxespad=0., handles=handles, labels=[\"0 constraint\", \"1 constraint\", \"3 constraints\", \"5 constraints\",\"10 constraints\", \"20 constraints\",\"50 constraints\"])"
   ]
  },
  {
   "cell_type": "markdown",
   "metadata": {},
   "source": [
    "### Partial conclusion on the above\n",
    "Constraints and calibrations both improve accuracy. The number of constraints does not seem to have much of an effect on the size of the 95% HPD, contrary to calibrations, unless you get to lots of constraints (20, 5à or 100). However, when using large numbers of constraints, results are much improved, although with a lot of variance if there aren't any calibration. It is possible that on some trees convergence was difficult in the fully constrained runs."
   ]
  },
  {
   "cell_type": "markdown",
   "metadata": {},
   "source": [
    "## Comparison between trees\n",
    "In the following 6 plots, we look at the impact of the 10 different trees."
   ]
  },
  {
   "cell_type": "markdown",
   "metadata": {},
   "source": [
    "First let's order the trees from good to bad according to the correlation in node ages when all constraints are used:"
   ]
  },
  {
   "cell_type": "code",
   "execution_count": null,
   "metadata": {},
   "outputs": [],
   "source": [
    "d_sel = d.loc[d['numCons'] == 100]\n",
    "print(d_sel.sort_values(['correlation'], ascending=False))"
   ]
  },
  {
   "cell_type": "code",
   "execution_count": null,
   "metadata": {},
   "outputs": [],
   "source": [
    "%matplotlib inline\n",
    "sns.set_style(\"whitegrid\")\n",
    "ax = sns.violinplot(d[\"treeId\"], y=d[\"rmsd\"], inner=None)\n",
    "ax = sns.swarmplot(d[\"treeId\"], y=d[\"rmsd\"], color=\"white\", edgecolor=\"gray\")\n",
    "ax.set(xlabel='Tree ID', ylabel='Rmsd of node ages')\n"
   ]
  },
  {
   "cell_type": "code",
   "execution_count": null,
   "metadata": {},
   "outputs": [],
   "source": [
    "%matplotlib inline\n",
    "sns.set_style(\"whitegrid\")\n",
    "ax = sns.violinplot(d[\"treeId\"], y=d[\"correlation\"], inner=None)\n",
    "ax = sns.swarmplot(d[\"treeId\"], y=d[\"correlation\"], color=\"white\", edgecolor=\"gray\")\n",
    "ax.set(xlabel='Tree ID', ylabel='Correlation in node ages')\n"
   ]
  },
  {
   "cell_type": "code",
   "execution_count": null,
   "metadata": {},
   "outputs": [],
   "source": [
    "%matplotlib inline\n",
    "sns.set_style(\"whitegrid\")\n",
    "ax = sns.violinplot(d[\"treeId\"], y=d[\"rmsd_bl\"], inner=None)\n",
    "ax = sns.swarmplot(d[\"treeId\"], y=d[\"rmsd_bl\"], color=\"white\", edgecolor=\"gray\")\n",
    "ax.set(xlabel='Tree ID', ylabel='Rmsd of branch lengths')\n"
   ]
  },
  {
   "cell_type": "code",
   "execution_count": null,
   "metadata": {},
   "outputs": [],
   "source": [
    "%matplotlib inline\n",
    "sns.set_style(\"whitegrid\")\n",
    "ax = sns.violinplot(d[\"treeId\"], y=d[\"correlation_bl\"], inner=None)\n",
    "ax = sns.swarmplot(d[\"treeId\"], y=d[\"correlation_bl\"], color=\"white\", edgecolor=\"gray\")\n",
    "ax.set(xlabel='Tree ID', ylabel='Correlation in branch lengths')\n"
   ]
  },
  {
   "cell_type": "code",
   "execution_count": null,
   "metadata": {},
   "outputs": [],
   "source": [
    "%matplotlib inline\n",
    "sns.set_style(\"whitegrid\")\n",
    "ax = sns.violinplot(d[\"treeId\"], y=d[\"fracInHPD\"], inner=None)\n",
    "ax = sns.swarmplot(d[\"treeId\"], y=d[\"fracInHPD\"], color=\"white\", edgecolor=\"gray\")\n",
    "ax.set(xlabel='Tree ID', ylabel='Fraction in 95% HPD')\n"
   ]
  },
  {
   "cell_type": "code",
   "execution_count": null,
   "metadata": {},
   "outputs": [],
   "source": [
    "%matplotlib inline\n",
    "ax = sns.barplot(hue=\"numReplicate\", y=\"fracInHPD\", x=\"treeId\", data=d)\n",
    "ax.set(xlabel='Tree ID', ylabel='Average fraction in 95% HPD')\n",
    "# Put the legend out of the figure\n",
    "handles, labels = ax.get_legend_handles_labels()\n",
    "ax.legend(bbox_to_anchor=(1.05, 1), loc=2, borderaxespad=0., handles=handles, labels=[\"Replicate 1\", \"Replicate 2\", \"Replicate 3\", \"Replicate 4\", \"Replicate 5\"])"
   ]
  },
  {
   "cell_type": "markdown",
   "metadata": {},
   "source": [
    "### Partial conclusion on the above\n",
    "Some trees are consistently easy, some consistently hard, even when we use all constraints.\n",
    "If we had to order the trees from easy to hard, I'd say:\n",
    "3 8 1 5 4 7 9 10 2 6"
   ]
  },
  {
   "cell_type": "markdown",
   "metadata": {},
   "source": [
    "## Results obtained on easy trees 3 and 8"
   ]
  },
  {
   "cell_type": "code",
   "execution_count": null,
   "metadata": {},
   "outputs": [],
   "source": [
    "d_easy = d.loc[d['treeId'].isin([3,8])]\n",
    "d_easy.describe()"
   ]
  },
  {
   "cell_type": "code",
   "execution_count": null,
   "metadata": {},
   "outputs": [],
   "source": [
    "%matplotlib inline\n",
    "ax = sns.barplot(hue=\"numCons\", y=\"rmsd_bl\", x=\"numCalib\", data=d_easy)\n",
    "#ax.set_ylim(0.8, 1.0)\n",
    "ax.set(xlabel='Number of calibrations', ylabel='Average rmsd in branch lengths, easy trees')\n",
    "# Put the legend out of the figure\n",
    "handles, labels = ax.get_legend_handles_labels()\n",
    "ax.legend(bbox_to_anchor=(1.05, 1), loc=2, borderaxespad=0., handles=handles, labels=[\"0 constraint\", \"1 constraint\", \"3 constraints\", \"5 constraints\",\"10 constraints\",\"20 constraints\",\"50 constraints\" ])"
   ]
  },
  {
   "cell_type": "code",
   "execution_count": null,
   "metadata": {},
   "outputs": [],
   "source": [
    "%matplotlib inline\n",
    "ax = sns.barplot(hue=\"numCons\", y=\"correlation_bl\", x=\"numCalib\", data=d_easy)\n",
    "#ax.set_ylim(0.8, 1.0)\n",
    "ax.set(xlabel='Number of calibrations', ylabel='Average correlation in branch lengths, easy trees')\n",
    "# Put the legend out of the figure\n",
    "handles, labels = ax.get_legend_handles_labels()\n",
    "ax.legend(bbox_to_anchor=(1.05, 1), loc=2, borderaxespad=0., handles=handles, labels=[\"0 constraint\", \"1 constraint\", \"3 constraints\", \"5 constraints\",\"10 constraints\",\"20 constraints\",\"50 constraints\" ])"
   ]
  },
  {
   "cell_type": "code",
   "execution_count": null,
   "metadata": {},
   "outputs": [],
   "source": [
    "%matplotlib inline\n",
    "ax = sns.barplot(hue=\"numCons\", y=\"rmsd\", x=\"numCalib\", data=d_easy)\n",
    "#ax.set_ylim(0.8, 1.0)\n",
    "ax.set(xlabel='Number of calibrations', ylabel='Average rmsd in node ages, easy trees')\n",
    "# Put the legend out of the figure\n",
    "handles, labels = ax.get_legend_handles_labels()\n",
    "ax.legend(bbox_to_anchor=(1.05, 1), loc=2, borderaxespad=0., handles=handles, labels=[\"0 constraint\", \"1 constraint\", \"3 constraints\", \"5 constraints\",\"10 constraints\",\"20 constraints\",\"50 constraints\" ])"
   ]
  },
  {
   "cell_type": "code",
   "execution_count": null,
   "metadata": {},
   "outputs": [],
   "source": [
    "%matplotlib inline\n",
    "ax = sns.barplot(hue=\"numCons\", y=\"correlation\", x=\"numCalib\", data=d_easy)\n",
    "#ax.set_ylim(0.8, 1.0)\n",
    "ax.set(xlabel='Number of calibrations', ylabel='Average correlation in node ages, easy trees')\n",
    "# Put the legend out of the figure\n",
    "handles, labels = ax.get_legend_handles_labels()\n",
    "ax.legend(bbox_to_anchor=(1.05, 1), loc=2, borderaxespad=0., handles=handles, labels=[\"0 constraint\", \"1 constraint\", \"3 constraints\", \"5 constraints\",\"10 constraints\",\"20 constraints\",\"50 constraints\" ])"
   ]
  },
  {
   "cell_type": "markdown",
   "metadata": {},
   "source": [
    "## Results obtained on hard trees 2 and 10\n",
    "I decided against tree 6 where variance of the different runs is too wide."
   ]
  },
  {
   "cell_type": "code",
   "execution_count": null,
   "metadata": {},
   "outputs": [],
   "source": [
    "d_hard = d.loc[d['treeId'].isin([2,10])]\n",
    "d_hard.describe()"
   ]
  },
  {
   "cell_type": "code",
   "execution_count": null,
   "metadata": {},
   "outputs": [],
   "source": [
    "%matplotlib inline\n",
    "ax = sns.barplot(hue=\"numCons\", y=\"rmsd_bl\", x=\"numCalib\", data=d_hard)\n",
    "#ax.set_ylim(0.8, 1.0)\n",
    "ax.set(xlabel='Number of calibrations', ylabel='Average rmsd in branch lengths, hard trees')\n",
    "# Put the legend out of the figure\n",
    "handles, labels = ax.get_legend_handles_labels()\n",
    "ax.legend(bbox_to_anchor=(1.05, 1), loc=2, borderaxespad=0., handles=handles, labels=[\"0 constraint\", \"1 constraint\", \"3 constraints\", \"5 constraints\",\"10 constraints\",\"20 constraints\",\"50 constraints\" ])"
   ]
  },
  {
   "cell_type": "code",
   "execution_count": null,
   "metadata": {},
   "outputs": [],
   "source": [
    "%matplotlib inline\n",
    "ax = sns.barplot(hue=\"numCons\", y=\"correlation_bl\", x=\"numCalib\", data=d_hard)\n",
    "#ax.set_ylim(0.8, 1.0)\n",
    "ax.set(xlabel='Number of calibrations', ylabel='Average correlation in branch lengths, hard trees')\n",
    "# Put the legend out of the figure\n",
    "handles, labels = ax.get_legend_handles_labels()\n",
    "ax.legend(bbox_to_anchor=(1.05, 1), loc=2, borderaxespad=0., handles=handles, labels=[\"0 constraint\", \"1 constraint\", \"3 constraints\", \"5 constraints\",\"20 constraints\",\"50 constraints\",\"100 constraints\" ])"
   ]
  },
  {
   "cell_type": "code",
   "execution_count": null,
   "metadata": {},
   "outputs": [],
   "source": [
    "%matplotlib inline\n",
    "ax = sns.barplot(hue=\"numCons\", y=\"rmsd\", x=\"numCalib\", data=d_hard)\n",
    "#ax.set_ylim(0.8, 1.0)\n",
    "ax.set(xlabel='Number of calibrations', ylabel='Average rmsd in node ages, hard trees')\n",
    "# Put the legend out of the figure\n",
    "handles, labels = ax.get_legend_handles_labels()\n",
    "ax.legend(bbox_to_anchor=(1.05, 1), loc=2, borderaxespad=0., handles=handles, labels=[\"0 constraint\", \"1 constraint\", \"3 constraints\", \"5 constraints\",\"20 constraints\",\"50 constraints\",\"100 constraints\" ])"
   ]
  },
  {
   "cell_type": "code",
   "execution_count": null,
   "metadata": {},
   "outputs": [],
   "source": [
    "%matplotlib inline\n",
    "ax = sns.barplot(hue=\"numCons\", y=\"correlation\", x=\"numCalib\", data=d_hard)\n",
    "#ax.set_ylim(0.8, 1.0)\n",
    "ax.set(xlabel='Number of calibrations', ylabel='Average correlation in node ages, hard trees')\n",
    "# Put the legend out of the figure\n",
    "handles, labels = ax.get_legend_handles_labels()\n",
    "ax.legend(bbox_to_anchor=(1.05, 1), loc=2, borderaxespad=0., handles=handles, labels=[\"0 constraint\", \"1 constraint\", \"3 constraints\", \"5 constraints\",\"20 constraints\",\"50 constraints\",\"100 constraints\" ])"
   ]
  },
  {
   "cell_type": "markdown",
   "metadata": {},
   "source": [
    "### Partial conclusion on the above\n",
    "Constraints seem to help a little bit more on the easy trees than on the hard trees, but the effect is not massive. With all constraints, we see a nice improvement in both cases, but more variance on the two hard trees."
   ]
  },
  {
   "cell_type": "markdown",
   "metadata": {},
   "source": [
    "## Variation among replicates, controlling for a given set of conditions, focusing on constraints\n",
    "For a given number of constraints, calibrations, and a given tree, we want to assess how variable the results are, focusing on the impact of calibrations (whose number has been color-coded)."
   ]
  },
  {
   "cell_type": "code",
   "execution_count": null,
   "metadata": {
    "scrolled": true
   },
   "outputs": [],
   "source": [
    "\n",
    "#groupedByReplicates = d.groupby([\"treeId\",\"numCalib\",\"numCons\"], group_keys=True)\n",
    "#groupedByReplicates.describe()\n",
    "\n",
    "#groupedByReplicates.columns = [\"_\".join(x) for x in groupedByReplicates.columns.ravel()]\n",
    "#groupedByReplicates.describe()\n",
    "\n",
    "#groupedByReplicates[\"correlation\"]\n",
    "\n",
    "cors=pd.DataFrame({'var' : d.groupby( [\"treeId\",\"numCalib\",\"numCons\"] )[\"correlation\"].std()}).reset_index()\n",
    "# Let's drop the case with 100 constraints\n",
    "cors = cors[cors[\"numCons\"] != 100]\n",
    "cors = cors.reset_index(drop=True)\n",
    "#cors.head(130)\n",
    "\n",
    "    #pd.boxplot_frame_groupby(groupedByReplicates)\n",
    "#groupedByReplicates[\"correlation\"].boxplot()\n",
    "#print(d.groupby([\"treeId\",\"numCalib\",\"numCons\"])[\"correlation\"].var().unstack())\n",
    "#d.groupby([\"treeId\",\"numCalib\",\"numCons\"])[\"correlation\"].var().unstack().boxplot()"
   ]
  },
  {
   "cell_type": "code",
   "execution_count": null,
   "metadata": {
    "scrolled": true
   },
   "outputs": [],
   "source": [
    "%matplotlib inline\n",
    "\n",
    "# Select the color map named rainbow\n",
    "cmap = plt.cm.get_cmap(name='tab10')\n",
    "\n",
    "\n",
    "fig, ax = plt.subplots(figsize=(20, 10))\n",
    "for i in range(240):\n",
    "    mark = \"\"\n",
    "    if i < 24:\n",
    "        mark=\"o\"\n",
    "    elif i < 48:\n",
    "        mark=\"v\"\n",
    "    elif i < 72:\n",
    "        mark=\"^\"\n",
    "    elif i < 96:\n",
    "        mark=\"<\"\n",
    "    elif i < 120:\n",
    "        mark=\">\"\n",
    "    elif i < 144:\n",
    "        mark=\"8\"\n",
    "    elif i < 168:\n",
    "        mark=\"s\"\n",
    "    elif i < 192:\n",
    "        mark=\"p\"\n",
    "    elif i < 216:\n",
    "        mark=\"*\"\n",
    "    else:\n",
    "        mark=\"h\"\n",
    "    ax.plot(i, cors[\"var\"][i], mark, color = cmap(i % 6))\n",
    "\n",
    "patches=list()\n",
    "patches.append(matplotlib.patches.Patch(color=cmap(0), label='0 constraint'))\n",
    "patches.append(matplotlib.patches.Patch(color=cmap(1), label='1 constraints'))\n",
    "patches.append(matplotlib.patches.Patch(color=cmap(2), label='3 constraints'))\n",
    "patches.append(matplotlib.patches.Patch(color=cmap(3), label='5 constraints'))\n",
    "patches.append(matplotlib.patches.Patch(color=cmap(3), label='20 constraints'))\n",
    "patches.append(matplotlib.patches.Patch(color=cmap(3), label='50 constraints'))\n",
    "\n",
    "\n",
    "\n",
    "ax.legend(handles=patches)\n",
    "\n",
    "plt.xlabel(\"Condition\", fontsize=15)\n",
    "plt.ylabel(\"Standard deviation in correlation\", fontsize=15)\n"
   ]
  },
  {
   "cell_type": "code",
   "execution_count": null,
   "metadata": {},
   "outputs": [],
   "source": [
    "%matplotlib inline\n",
    "\n",
    "rmsd=pd.DataFrame({'var' : d.groupby( [\"treeId\",\"numCalib\",\"numCons\"] )[\"rmsd\"].std()}).reset_index()\n",
    "\n",
    "# Let's drop the case with 100 constraints\n",
    "rmsd = rmsd[rmsd[\"numCons\"] != 100]\n",
    "rmsd = rmsd.reset_index(drop=True)\n",
    "rmsd.head(130)\n",
    "\n",
    "\n",
    "# Select the color map\n",
    "cmap = plt.cm.get_cmap(name='tab10')\n",
    "\n",
    "fig, ax = plt.subplots(figsize=(20, 10))\n",
    "for i in range(240):\n",
    "    mark = \"\"\n",
    "    if i < 24:\n",
    "        mark=\"o\"\n",
    "    elif i < 48:\n",
    "        mark=\"v\"\n",
    "    elif i < 72:\n",
    "        mark=\"^\"\n",
    "    elif i < 96:\n",
    "        mark=\"<\"\n",
    "    elif i < 120:\n",
    "        mark=\">\"\n",
    "    elif i < 144:\n",
    "        mark=\"8\"\n",
    "    elif i < 168:\n",
    "        mark=\"s\"\n",
    "    elif i < 192:\n",
    "        mark=\"p\"\n",
    "    elif i < 216:\n",
    "        mark=\"*\"\n",
    "    else:\n",
    "        mark=\"h\"\n",
    "    ax.plot(i, rmsd[\"var\"][i], mark, color = cmap(i % 6))\n",
    "\n",
    "patches=list()\n",
    "patches.append(matplotlib.patches.Patch(color=cmap(0), label='0 constraint'))\n",
    "patches.append(matplotlib.patches.Patch(color=cmap(1), label='1 constraints'))\n",
    "patches.append(matplotlib.patches.Patch(color=cmap(2), label='3 constraints'))\n",
    "patches.append(matplotlib.patches.Patch(color=cmap(3), label='5 constraints'))\n",
    "patches.append(matplotlib.patches.Patch(color=cmap(4), label='20 constraints'))\n",
    "patches.append(matplotlib.patches.Patch(color=cmap(5), label='50 constraints'))\n",
    "\n",
    "\n",
    "ax.legend(handles=patches)\n",
    "\n",
    "plt.xlabel(\"Condition\", fontsize=15)\n",
    "plt.ylabel(\"Standard deviation in node age rmsd\", fontsize=15)"
   ]
  },
  {
   "cell_type": "code",
   "execution_count": null,
   "metadata": {
    "scrolled": true
   },
   "outputs": [],
   "source": [
    "%matplotlib inline\n",
    "\n",
    "fracInHPD=pd.DataFrame({'var' : d.groupby( [\"treeId\",\"numCalib\",\"numCons\"] )[\"fracInHPD\"].std()}).reset_index()\n",
    "\n",
    "# Let's drop the case with 100 constraints\n",
    "fracInHPD = fracInHPD[fracInHPD[\"numCons\"] != 100]\n",
    "fracInHPD = fracInHPD.reset_index(drop=True)\n",
    "fracInHPD.head(130)\n",
    "\n",
    "\n",
    "# Select the color map\n",
    "cmap = plt.cm.get_cmap(name='tab10')\n",
    "\n",
    "fig, ax = plt.subplots(figsize=(20, 10))\n",
    "for i in range(240):\n",
    "    mark = \"\"\n",
    "    if i < 24:\n",
    "        mark=\"o\"\n",
    "    elif i < 48:\n",
    "        mark=\"v\"\n",
    "    elif i < 72:\n",
    "        mark=\"^\"\n",
    "    elif i < 96:\n",
    "        mark=\"<\"\n",
    "    elif i < 120:\n",
    "        mark=\">\"\n",
    "    elif i < 144:\n",
    "        mark=\"8\"\n",
    "    elif i < 168:\n",
    "        mark=\"s\"\n",
    "    elif i < 192:\n",
    "        mark=\"p\"\n",
    "    elif i < 216:\n",
    "        mark=\"*\"\n",
    "    else:\n",
    "        mark=\"h\"\n",
    "    ax.plot(i, fracInHPD[\"var\"][i], mark, color = cmap(i % 6))\n",
    "\n",
    "patches=list()\n",
    "patches.append(matplotlib.patches.Patch(color=cmap(0), label='0 constraint'))\n",
    "patches.append(matplotlib.patches.Patch(color=cmap(1), label='1 constraints'))\n",
    "patches.append(matplotlib.patches.Patch(color=cmap(2), label='3 constraints'))\n",
    "patches.append(matplotlib.patches.Patch(color=cmap(3), label='5 constraints'))\n",
    "patches.append(matplotlib.patches.Patch(color=cmap(4), label='20 constraints'))\n",
    "patches.append(matplotlib.patches.Patch(color=cmap(5), label='50 constraints'))\n",
    "\n",
    "\n",
    "ax.legend(handles=patches)\n",
    "\n",
    "plt.xlabel(\"Condition\", fontsize=15)\n",
    "plt.ylabel(\"Standard deviation in fraction of nodes in 95% HPD\", fontsize=15)\n"
   ]
  },
  {
   "cell_type": "code",
   "execution_count": null,
   "metadata": {
    "scrolled": true
   },
   "outputs": [],
   "source": [
    "%matplotlib inline\n",
    "\n",
    "percent50=pd.DataFrame({'var' : d.groupby( [\"treeId\",\"numCalib\",\"numCons\"] )[\"percent50\"].std()}).reset_index()\n",
    "\n",
    "\n",
    "# Select the color map\n",
    "cmap = plt.cm.get_cmap(name='tab10')\n",
    "\n",
    "fig, ax = plt.subplots(figsize=(20, 10))\n",
    "for i in range(240):\n",
    "    mark = \"\"\n",
    "    if i < 24:\n",
    "        mark=\"o\"\n",
    "    elif i < 48:\n",
    "        mark=\"v\"\n",
    "    elif i < 72:\n",
    "        mark=\"^\"\n",
    "    elif i < 96:\n",
    "        mark=\"<\"\n",
    "    elif i < 120:\n",
    "        mark=\">\"\n",
    "    elif i < 144:\n",
    "        mark=\"8\"\n",
    "    elif i < 168:\n",
    "        mark=\"s\"\n",
    "    elif i < 192:\n",
    "        mark=\"p\"\n",
    "    elif i < 216:\n",
    "        mark=\"*\"\n",
    "    else:\n",
    "        mark=\"h\"\n",
    "    ax.plot(i, percent50[\"var\"][i], mark, color = cmap(i % 4))\n",
    "\n",
    "patches=list()\n",
    "patches.append(matplotlib.patches.Patch(color=cmap(0), label='0 constraint'))\n",
    "patches.append(matplotlib.patches.Patch(color=cmap(1), label='1 constraints'))\n",
    "patches.append(matplotlib.patches.Patch(color=cmap(2), label='3 constraints'))\n",
    "patches.append(matplotlib.patches.Patch(color=cmap(3), label='5 constraints'))\n",
    "patches.append(matplotlib.patches.Patch(color=cmap(4), label='20 constraints'))\n",
    "patches.append(matplotlib.patches.Patch(color=cmap(5), label='50 constraints'))\n",
    "\n",
    "\n",
    "ax.legend(handles=patches)\n",
    "\n",
    "plt.xlabel(\"Condition\", fontsize=15)\n",
    "plt.ylabel(\"Standard deviation in median 95% HPD size\", fontsize=15)\n"
   ]
  },
  {
   "cell_type": "markdown",
   "metadata": {},
   "source": [
    "### Partial conclusion on the above\n",
    "It's hard to come up with much to say about the above graphs, except that even controlling for a given number of constraints on a given tree, there can be variation in the accuracy or the 95% HPD. This is expected given that constraints could be positioned on different nodes of the tree."
   ]
  },
  {
   "cell_type": "markdown",
   "metadata": {},
   "source": [
    "## Variation among replicates, controlling for a given set of conditions, focusing on calibrations\n",
    "For a given number of constraints, calibrations, and a given tree, we want to assess how variable the results are, focusing on the impact of calibrations (whose number has been color-coded)."
   ]
  },
  {
   "cell_type": "code",
   "execution_count": null,
   "metadata": {},
   "outputs": [],
   "source": [
    "# Group analyses by tree, and recover correlation only\n",
    "cors=pd.DataFrame({'var' : d.groupby( [\"treeId\",\"numCons\", \"numCalib\"] )[\"correlation\"].std()}).reset_index()\n",
    "\n",
    "# Let's drop the case with 100 constraints\n",
    "cors = cors[cors[\"numCons\"] != 100]\n",
    "cors = cors.reset_index(drop=True)\n",
    "cors.head(130)\n"
   ]
  },
  {
   "cell_type": "code",
   "execution_count": null,
   "metadata": {
    "scrolled": true
   },
   "outputs": [],
   "source": [
    "%matplotlib inline\n",
    "\n",
    "\n",
    "# Select the color map named tab10\n",
    "cmap = plt.cm.get_cmap(name='tab10')\n",
    "\n",
    "\n",
    "fig, ax = plt.subplots(figsize=(20, 10))\n",
    "for i in range(240):\n",
    "    mark = \"\"\n",
    "    if i < 24:\n",
    "        mark=\"o\"\n",
    "    elif i < 48:\n",
    "        mark=\"v\"\n",
    "    elif i < 72:\n",
    "        mark=\"^\"\n",
    "    elif i < 96:\n",
    "        mark=\"<\"\n",
    "    elif i < 120:\n",
    "        mark=\">\"\n",
    "    elif i < 144:\n",
    "        mark=\"8\"\n",
    "    elif i < 168:\n",
    "        mark=\"s\"\n",
    "    elif i < 192:\n",
    "        mark=\"p\"\n",
    "    elif i < 216:\n",
    "        mark=\"*\"\n",
    "    else:\n",
    "        mark=\"h\"\n",
    "    ax.plot(i, cors[\"var\"][i], mark, color = cmap(i % 4))\n",
    "\n",
    "patches=list()\n",
    "patches.append(matplotlib.patches.Patch(color=cmap(0), label='0 calibration'))\n",
    "patches.append(matplotlib.patches.Patch(color=cmap(1), label='1 calibrations'))\n",
    "patches.append(matplotlib.patches.Patch(color=cmap(2), label='3 calibrations'))\n",
    "patches.append(matplotlib.patches.Patch(color=cmap(3), label='5 calibrations'))\n",
    "\n",
    "\n",
    "ax.legend(handles=patches)\n",
    "\n",
    "plt.xlabel(\"Condition\", fontsize=15)\n",
    "plt.ylabel(\"Standard deviation in correlation\", fontsize=15)\n"
   ]
  },
  {
   "cell_type": "code",
   "execution_count": null,
   "metadata": {},
   "outputs": [],
   "source": [
    "%matplotlib inline\n",
    "\n",
    "fracInHPD=pd.DataFrame({'var' : d.groupby( [\"treeId\",\"numCons\", \"numCalib\"] )[\"rmsd\"].std()}).reset_index()\n",
    "\n",
    "\n",
    "# Let's drop the case with 100 constraints\n",
    "rmsd = rmsd[rmsd[\"numCons\"] != 100]\n",
    "rmsd = rmsd.reset_index(drop=True)\n",
    "rmsd.head(130)\n",
    "\n",
    "fig, ax = plt.subplots(figsize=(20, 10))\n",
    "for i in range(240):\n",
    "    mark = \"\"\n",
    "    if i < 24:\n",
    "        mark=\"o\"\n",
    "    elif i < 48:\n",
    "        mark=\"v\"\n",
    "    elif i < 72:\n",
    "        mark=\"^\"\n",
    "    elif i < 96:\n",
    "        mark=\"<\"\n",
    "    elif i < 120:\n",
    "        mark=\">\"\n",
    "    elif i < 144:\n",
    "        mark=\"8\"\n",
    "    elif i < 168:\n",
    "        mark=\"s\"\n",
    "    elif i < 192:\n",
    "        mark=\"p\"\n",
    "    elif i < 216:\n",
    "        mark=\"*\"\n",
    "    else:\n",
    "        mark=\"h\"\n",
    "    ax.plot(i, rmsd[\"var\"][i], mark, color = cmap(i % 4))\n",
    "\n",
    "patches=list()\n",
    "patches.append(matplotlib.patches.Patch(color=cmap(0), label='0 calibration'))\n",
    "patches.append(matplotlib.patches.Patch(color=cmap(1), label='1 calibrations'))\n",
    "patches.append(matplotlib.patches.Patch(color=cmap(2), label='3 calibrations'))\n",
    "patches.append(matplotlib.patches.Patch(color=cmap(3), label='5 calibrations'))\n",
    "\n",
    "\n",
    "ax.legend(handles=patches)\n",
    "\n",
    "plt.xlabel(\"Condition\", fontsize=15)\n",
    "plt.ylabel(\"Standard deviation in node age rmsd\", fontsize=15)\n"
   ]
  },
  {
   "cell_type": "code",
   "execution_count": null,
   "metadata": {
    "scrolled": true
   },
   "outputs": [],
   "source": [
    "%matplotlib inline\n",
    "\n",
    "fracInHPD=pd.DataFrame({'var' : d.groupby( [\"treeId\",\"numCons\", \"numCalib\"] )[\"fracInHPD\"].std()}).reset_index()\n",
    "\n",
    "\n",
    "# Let's drop the case with 100 constraints\n",
    "fracInHPD = fracInHPD[fracInHPD[\"numCons\"] != 100]\n",
    "fracInHPD = fracInHPD.reset_index(drop=True)\n",
    "fracInHPD.head(130)\n",
    "\n",
    "fig, ax = plt.subplots(figsize=(20, 10))\n",
    "for i in range(240):\n",
    "    mark = \"\"\n",
    "    if i < 24:\n",
    "        mark=\"o\"\n",
    "    elif i < 48:\n",
    "        mark=\"v\"\n",
    "    elif i < 72:\n",
    "        mark=\"^\"\n",
    "    elif i < 96:\n",
    "        mark=\"<\"\n",
    "    elif i < 120:\n",
    "        mark=\">\"\n",
    "    elif i < 144:\n",
    "        mark=\"8\"\n",
    "    elif i < 168:\n",
    "        mark=\"s\"\n",
    "    elif i < 192:\n",
    "        mark=\"p\"\n",
    "    elif i < 216:\n",
    "        mark=\"*\"\n",
    "    else:\n",
    "        mark=\"h\"\n",
    "    ax.plot(i, fracInHPD[\"var\"][i], mark, color = cmap(i % 4))\n",
    "\n",
    "patches=list()\n",
    "patches.append(matplotlib.patches.Patch(color=cmap(0), label='0 calibration'))\n",
    "patches.append(matplotlib.patches.Patch(color=cmap(1), label='1 calibrations'))\n",
    "patches.append(matplotlib.patches.Patch(color=cmap(2), label='3 calibrations'))\n",
    "patches.append(matplotlib.patches.Patch(color=cmap(3), label='5 calibrations'))\n",
    "\n",
    "\n",
    "ax.legend(handles=patches)\n",
    "\n",
    "plt.xlabel(\"Condition\", fontsize=15)\n",
    "plt.ylabel(\"Standard deviation in fraction of nodes in 95% HPD\", fontsize=15)\n"
   ]
  },
  {
   "cell_type": "code",
   "execution_count": null,
   "metadata": {
    "scrolled": true
   },
   "outputs": [],
   "source": [
    "%matplotlib inline\n",
    "\n",
    "percent50=pd.DataFrame({'var' : d.groupby( [\"treeId\",\"numCons\", \"numCalib\"] )[\"percent50\"].std()}).reset_index()\n",
    "\n",
    "# Let's drop the case with 100 constraints\n",
    "percent50 = percent50[percent50[\"numCons\"] != 100]\n",
    "percent50 = percent50.reset_index(drop=True)\n",
    "percent50.head(130)\n",
    "\n",
    "fig, ax = plt.subplots(figsize=(20, 10))\n",
    "for i in range(240):\n",
    "    mark = \"\"\n",
    "    if i < 24:\n",
    "        mark=\"o\"\n",
    "    elif i < 48:\n",
    "        mark=\"v\"\n",
    "    elif i < 72:\n",
    "        mark=\"^\"\n",
    "    elif i < 96:\n",
    "        mark=\"<\"\n",
    "    elif i < 120:\n",
    "        mark=\">\"\n",
    "    elif i < 144:\n",
    "        mark=\"8\"\n",
    "    elif i < 168:\n",
    "        mark=\"s\"\n",
    "    elif i < 192:\n",
    "        mark=\"p\"\n",
    "    elif i < 216:\n",
    "        mark=\"*\"\n",
    "    else:\n",
    "        mark=\"h\"\n",
    "    ax.plot(i, percent50[\"var\"][i], mark, color = cmap(i % 4))\n",
    "\n",
    "patches=list()\n",
    "patches.append(matplotlib.patches.Patch(color=cmap(0), label='0 calibration'))\n",
    "patches.append(matplotlib.patches.Patch(color=cmap(1), label='1 calibrations'))\n",
    "patches.append(matplotlib.patches.Patch(color=cmap(2), label='3 calibrations'))\n",
    "patches.append(matplotlib.patches.Patch(color=cmap(3), label='5 calibrations'))\n",
    "\n",
    "\n",
    "ax.legend(handles=patches)\n",
    "\n",
    "plt.xlabel(\"Condition\", fontsize=15)\n",
    "plt.ylabel(\"Standard deviation in median 95% HPD size\", fontsize=15)\n"
   ]
  },
  {
   "cell_type": "markdown",
   "metadata": {},
   "source": [
    "### Partial conclusion on the above\n",
    "Similarly to the analyses focusing on the number of constraints, there can be some variation in some conditions, even with 5 calibrations."
   ]
  },
  {
   "cell_type": "markdown",
   "metadata": {},
   "source": [
    "# Analysis of variation among replicates, another visualization"
   ]
  },
  {
   "cell_type": "code",
   "execution_count": null,
   "metadata": {},
   "outputs": [],
   "source": []
  },
  {
   "cell_type": "markdown",
   "metadata": {
    "collapsed": true
   },
   "source": [
    "## Analysis of mixing in a random replicate\n",
    "Here we just look at how well the MCMC seems to mix in a particular example, on tree 9, with varying numbers of constraints. "
   ]
  },
  {
   "cell_type": "code",
   "execution_count": null,
   "metadata": {},
   "outputs": [],
   "source": [
    "d0=pd.read_csv (\"output/9_0_0_1.log\", sep=\"\\t\")\n",
    "d1=pd.read_csv (\"output/9_0_1_1.log\", sep=\"\\t\")\n",
    "d3=pd.read_csv (\"output/9_0_3_1.log\", sep=\"\\t\")\n",
    "d5=pd.read_csv (\"output/9_0_5_1.log\", sep=\"\\t\")\n",
    "d10=pd.read_csv (\"output/9_0_10_1.log\", sep=\"\\t\")\n",
    "d20=pd.read_csv (\"output/9_0_20_1.log\", sep=\"\\t\")\n",
    "d50=pd.read_csv (\"output/9_0_50_1.log\", sep=\"\\t\")\n",
    "\n",
    "d1.describe()\n"
   ]
  },
  {
   "cell_type": "code",
   "execution_count": null,
   "metadata": {},
   "outputs": [],
   "source": [
    "%matplotlib inline\n",
    "\n",
    "fig, ax = plt.subplots(7, figsize=(20, 10))\n",
    "p1, = ax[0].plot(d0['Iteration'], d0['Posterior'], 'b-')\n",
    "p2, = ax[1].plot(d1['Iteration'], d1['Posterior'], 'b-')\n",
    "p3, = ax[2].plot(d3['Iteration'], d3['Posterior'], 'b-')\n",
    "p4, = ax[3].plot(d5['Iteration'], d5['Posterior'], 'b-')\n",
    "p5, = ax[4].plot(d10['Iteration'], d10['Posterior'], 'b-')\n",
    "p6, = ax[5].plot(d20['Iteration'], d20['Posterior'], 'b-')\n",
    "p7, = ax[6].plot(d50['Iteration'], d50['Posterior'], 'b-')\n",
    "\n",
    "#cal, = ax[1].plot(d2['Iteration'], d2['Posterior'], 'g-')\n",
    "#con, = ax[2].plot(d3['Iteration'], d3['Posterior'], 'r-')\n",
    "\n",
    "ax[0].legend([p1], ['0 constraint'], loc='lower right')\n",
    "ax[1].legend([p2], ['1 constraint'], loc='lower right')\n",
    "ax[2].legend([p3], ['3 constraints'], loc='lower right')\n",
    "ax[3].legend([p4], ['5 constraints'], loc='lower right')\n",
    "ax[4].legend([p5], ['10 constraints'], loc='lower right')\n",
    "ax[5].legend([p6], ['20 constraints'], loc='lower right')\n",
    "ax[6].legend([p7], ['50 constraints'], loc='lower right')\n",
    "\n",
    "#ax[1].legend([cal], ['Run 2'], loc='lower right')\n",
    "#ax[2].legend([con], ['Run 3'], loc='lower right')\n",
    "\n",
    "plt.xlabel(\"Iteration\", fontsize=15)\n",
    "plt.ylabel(\"Posterior\", fontsize=15);"
   ]
  },
  {
   "cell_type": "markdown",
   "metadata": {},
   "source": [
    "### Partial conclusion on the above\n",
    "From this very quick look, the mixing does not seem too problematic."
   ]
  },
  {
   "cell_type": "markdown",
   "metadata": {
    "collapsed": true
   },
   "source": [
    "# Conclusion"
   ]
  },
  {
   "cell_type": "markdown",
   "metadata": {},
   "source": [
    "From these analyses, I would say:\n",
    "* Mixing of the MCMC does not seem too worrysome.\n",
    "* Calibrations help a lot.\n",
    "* Constraints help too, but probably a bit less. In particular, they have less of an effect on the reduction of 95% HPD. They tend to help for node age correlation, but not as much for branch lengths and rmsd.\n",
    "* However, using a large number of constraints or all constraints does produce good chronograms according to the metrics I used.\n",
    "* Focusing on easy trees or on the hard trees does not help much, although it seems like constraints may help a little bit more on easier trees. But given that constraints have their greatest impact on node age correlation, and that those correlations are very good on easy trees, it's not clear performing more easy simulations is going to help characterize the effect of constraints."
   ]
  },
  {
   "cell_type": "code",
   "execution_count": null,
   "metadata": {},
   "outputs": [],
   "source": []
  }
 ],
 "metadata": {
  "kernelspec": {
   "display_name": "Python 3",
   "language": "python",
   "name": "python3"
  },
  "language_info": {
   "codemirror_mode": {
    "name": "ipython",
    "version": 3
   },
   "file_extension": ".py",
   "mimetype": "text/x-python",
   "name": "python",
   "nbconvert_exporter": "python",
   "pygments_lexer": "ipython3",
   "version": "3.7.3"
  }
 },
 "nbformat": 4,
 "nbformat_minor": 2
}
