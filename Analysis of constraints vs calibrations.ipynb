{
 "cells": [
  {
   "cell_type": "code",
   "execution_count": 1,
   "metadata": {},
   "outputs": [],
   "source": [
    "import sys\n",
    "import numpy as np\n",
    "import pandas as pd\n",
    "import matplotlib.pyplot as plt\n",
    "from pylab import rcParams\n",
    "import matplotlib\n",
    "import seaborn as sns\n",
    "import scipy\n",
    "\n",
    "\n",
    "from IPython.display import HTML\n",
    "plt.rcParams['figure.figsize'] = [20, 10]"
   ]
  },
  {
   "cell_type": "markdown",
   "metadata": {},
   "source": [
    "# Assessing the relative impacts of constraints and calibrations on dating accuracy"
   ]
  },
  {
   "cell_type": "code",
   "execution_count": 2,
   "metadata": {},
   "outputs": [
    {
     "data": {
      "text/html": [
       "<script>\n",
       "code_show=true; \n",
       "function code_toggle() {\n",
       " if (code_show){\n",
       " $('div.input').hide();\n",
       " } else {\n",
       " $('div.input').show();\n",
       " }\n",
       " code_show = !code_show\n",
       "} \n",
       "$( document ).ready(code_toggle);\n",
       "</script>\n",
       "The raw code for this IPython notebook is by default hidden for easier reading.\n",
       "To toggle on/off the raw code, click <a href=\"javascript:code_toggle()\">here</a>."
      ],
      "text/plain": [
       "<IPython.core.display.HTML object>"
      ]
     },
     "execution_count": 2,
     "metadata": {},
     "output_type": "execute_result"
    }
   ],
   "source": [
    "HTML('''<script>\n",
    "code_show=true; \n",
    "function code_toggle() {\n",
    " if (code_show){\n",
    " $('div.input').hide();\n",
    " } else {\n",
    " $('div.input').show();\n",
    " }\n",
    " code_show = !code_show\n",
    "} \n",
    "$( document ).ready(code_toggle);\n",
    "</script>\n",
    "The raw code for this IPython notebook is by default hidden for easier reading.\n",
    "To toggle on/off the raw code, click <a href=\"javascript:code_toggle()\">here</a>.''')"
   ]
  },
  {
   "cell_type": "markdown",
   "metadata": {},
   "source": [
    "## Analysis of MCMC runs on simulated data. \n",
    "The simulation was performed on one tree, used to generate an alignment of 1000 bases. We gathered 10 calibration points, in a balanced or unbalanced way, and up to 15 constraints (0, 1, 5, 10, 15). We ran the MCMC in each combination of conditions (5 x 2=10 combinations). Then we also investigated informative vs uninformative constraints, yielding two additional analyses. So in total we have $10 + 2=12 different analyses$."
   ]
  },
  {
   "cell_type": "markdown",
   "metadata": {},
   "source": [
    "# Plot of the chronogram and the tree with altered branch lengths"
   ]
  },
  {
   "cell_type": "code",
   "execution_count": 3,
   "metadata": {},
   "outputs": [],
   "source": [
    "from ete3 import Tree, TreeStyle, NodeStyle\n",
    "\n",
    "def readTreeFromFile(file):\n",
    "    try:\n",
    "        f=open(file, 'r')\n",
    "    except IOError:\n",
    "        print (\"Unknown file: \"+file)\n",
    "        sys.exit()\n",
    "\n",
    "    line = \"\"\n",
    "    for l in f:\n",
    "        line += l.strip()\n",
    "    \n",
    "    f.close()\n",
    "    t = Tree( line )\n",
    "    return t\n",
    "\n",
    "# chronograms:\n",
    "files = [\"SimulatedTrees/proposedTree.dnd\"]\n",
    "\n",
    "ts = TreeStyle()\n",
    "ts.min_leaf_separation= 10\n",
    "ts.scale = 2020\n",
    "ts.show_leaf_name = False\n",
    "nstyle = NodeStyle()\n",
    "nstyle[\"size\"] = 0\n",
    "\n",
    "thickness = 1\n",
    "vt_line_width =  2\n",
    "hz_line_width =  2\n",
    "\n",
    "ts.scale =  thickness * 2400 # 120 pixels per branch length unit\n",
    "#ts.min_leaf_separation= 10\n",
    "ts.show_scale = False\n",
    "\n",
    "trees = list()\n",
    "i = 0\n",
    "for f in files:\n",
    "    trees.append(readTreeFromFile(f))\n",
    "    for n in trees[i].traverse():\n",
    "       n.set_style(nstyle)\n",
    "    trees[i].render(\"proposedTree_\"+str(i+1)+\".png\", tree_style=ts)\n",
    "    i = i +1\n",
    "\n",
    "    \n",
    "    \n",
    "# rescaled trees:\n",
    "files = [\"SimulatedTrees/proposedTree_rescaled_altered.dnd\"]\n",
    "\n",
    "ts = TreeStyle()\n",
    "ts.min_leaf_separation= 10\n",
    "ts.scale = 2020 \n",
    "ts.show_leaf_name = False\n",
    "nstyle = NodeStyle()\n",
    "nstyle[\"size\"] = 0\n",
    "\n",
    "thickness = 1\n",
    "vt_line_width =  2\n",
    "hz_line_width =  2\n",
    "\n",
    "ts.scale =  thickness * 2400 # 120 pixels per branch length unit\n",
    "#ts.min_leaf_separation= 10\n",
    "#ts.show_scale = False\n",
    "\n",
    "trees = list()\n",
    "i = 0\n",
    "for f in files:\n",
    "    trees.append(readTreeFromFile(f))\n",
    "    for n in trees[i].traverse():\n",
    "       n.set_style(nstyle)\n",
    "    trees[i].render(\"proposedTree_\"+str(i+1)+\"_rescaled_altered.png\", tree_style=ts)\n",
    "    i = i +1\n"
   ]
  },
  {
   "cell_type": "markdown",
   "metadata": {},
   "source": [
    "## Reading the data"
   ]
  },
  {
   "cell_type": "code",
   "execution_count": 4,
   "metadata": {},
   "outputs": [],
   "source": [
    "colNames = [\"TreeId\", \"numCalib\", \"numCons\", \"balanced\", \"old_biased\", \"correlation\", \"rmsd\", \"correlation_bl\", \"rmsd_bl\", \"num_nodes\", \"numInHPD\", \"fracInHPD\", \"percent0\", \"percent25\", \"percent50\", \"percents75\", \"percent100\"]\n",
    "d = pd.read_csv (\"resultAllTreesExcerpt.txt\", sep=\"\\t\", header=None, names=colNames)\n"
   ]
  },
  {
   "cell_type": "code",
   "execution_count": 5,
   "metadata": {},
   "outputs": [
    {
     "name": "stdout",
     "output_type": "stream",
     "text": [
      "          TreeId  numCalib  numCons balanced old_biased  correlation  \\\n",
      "0  cons_BD_UGAMr        10        0        n          y     0.614764   \n",
      "1  cons_BD_UGAMr        10        1        n          y     0.609125   \n",
      "2  cons_BD_UGAMr        10        5        n          y     0.780391   \n",
      "3  cons_BD_UGAMr        10       10        n          y     0.795913   \n",
      "4  cons_BD_UGAMr        10       15        n          y     0.837955   \n",
      "\n",
      "       rmsd  correlation_bl   rmsd_bl  num_nodes  numInHPD  fracInHPD  \\\n",
      "0  9.781198        0.186135  5.499453        101      56.0  55.445545   \n",
      "1  9.734400        0.191324  5.440664        101      56.0  55.445545   \n",
      "2  6.964829        0.140544  5.463986        101      70.0  69.306931   \n",
      "3  6.724503        0.191254  5.514924        101      71.0  70.297030   \n",
      "4  6.138481        0.314057  5.105266        101      76.0  75.247525   \n",
      "\n",
      "   percent0  percent25  percent50  percents75  percent100  \n",
      "0   6.65150  12.416000    14.7219   16.593100   20.739740  \n",
      "1   8.10941  12.455200    14.3084   17.635664   21.162200  \n",
      "2   8.17007  10.736204    11.8655   13.877972   19.870404  \n",
      "3   6.88493  10.182500    12.1557   12.628800   21.388810  \n",
      "4   7.10173  10.152800    12.1826   13.128400   19.954370  \n"
     ]
    }
   ],
   "source": [
    "print(d.head())"
   ]
  },
  {
   "cell_type": "code",
   "execution_count": 6,
   "metadata": {},
   "outputs": [
    {
     "data": {
      "text/html": [
       "<div>\n",
       "<style scoped>\n",
       "    .dataframe tbody tr th:only-of-type {\n",
       "        vertical-align: middle;\n",
       "    }\n",
       "\n",
       "    .dataframe tbody tr th {\n",
       "        vertical-align: top;\n",
       "    }\n",
       "\n",
       "    .dataframe thead th {\n",
       "        text-align: right;\n",
       "    }\n",
       "</style>\n",
       "<table border=\"1\" class=\"dataframe\">\n",
       "  <thead>\n",
       "    <tr style=\"text-align: right;\">\n",
       "      <th></th>\n",
       "      <th>numCalib</th>\n",
       "      <th>numCons</th>\n",
       "      <th>correlation</th>\n",
       "      <th>rmsd</th>\n",
       "      <th>correlation_bl</th>\n",
       "      <th>rmsd_bl</th>\n",
       "      <th>num_nodes</th>\n",
       "      <th>numInHPD</th>\n",
       "      <th>fracInHPD</th>\n",
       "      <th>percent0</th>\n",
       "      <th>percent25</th>\n",
       "      <th>percent50</th>\n",
       "      <th>percents75</th>\n",
       "      <th>percent100</th>\n",
       "    </tr>\n",
       "  </thead>\n",
       "  <tbody>\n",
       "    <tr>\n",
       "      <th>count</th>\n",
       "      <td>10.0</td>\n",
       "      <td>10.000000</td>\n",
       "      <td>10.000000</td>\n",
       "      <td>10.000000</td>\n",
       "      <td>10.000000</td>\n",
       "      <td>10.000000</td>\n",
       "      <td>10.0</td>\n",
       "      <td>10.000000</td>\n",
       "      <td>10.000000</td>\n",
       "      <td>10.000000</td>\n",
       "      <td>10.000000</td>\n",
       "      <td>10.000000</td>\n",
       "      <td>10.000000</td>\n",
       "      <td>10.000000</td>\n",
       "    </tr>\n",
       "    <tr>\n",
       "      <th>mean</th>\n",
       "      <td>10.0</td>\n",
       "      <td>6.200000</td>\n",
       "      <td>0.728592</td>\n",
       "      <td>7.836403</td>\n",
       "      <td>0.203783</td>\n",
       "      <td>5.412197</td>\n",
       "      <td>101.0</td>\n",
       "      <td>66.200000</td>\n",
       "      <td>65.544554</td>\n",
       "      <td>7.482952</td>\n",
       "      <td>11.254032</td>\n",
       "      <td>13.137640</td>\n",
       "      <td>14.752668</td>\n",
       "      <td>20.533541</td>\n",
       "    </tr>\n",
       "    <tr>\n",
       "      <th>std</th>\n",
       "      <td>0.0</td>\n",
       "      <td>5.940445</td>\n",
       "      <td>0.101601</td>\n",
       "      <td>1.647849</td>\n",
       "      <td>0.059770</td>\n",
       "      <td>0.145808</td>\n",
       "      <td>0.0</td>\n",
       "      <td>8.508819</td>\n",
       "      <td>8.424573</td>\n",
       "      <td>0.648531</td>\n",
       "      <td>1.223928</td>\n",
       "      <td>1.376961</td>\n",
       "      <td>1.997832</td>\n",
       "      <td>0.762688</td>\n",
       "    </tr>\n",
       "    <tr>\n",
       "      <th>min</th>\n",
       "      <td>10.0</td>\n",
       "      <td>0.000000</td>\n",
       "      <td>0.609125</td>\n",
       "      <td>6.102455</td>\n",
       "      <td>0.139954</td>\n",
       "      <td>5.105266</td>\n",
       "      <td>101.0</td>\n",
       "      <td>56.000000</td>\n",
       "      <td>55.445545</td>\n",
       "      <td>6.651500</td>\n",
       "      <td>9.793452</td>\n",
       "      <td>11.757068</td>\n",
       "      <td>12.462600</td>\n",
       "      <td>19.463106</td>\n",
       "    </tr>\n",
       "    <tr>\n",
       "      <th>25%</th>\n",
       "      <td>10.0</td>\n",
       "      <td>1.000000</td>\n",
       "      <td>0.614840</td>\n",
       "      <td>6.673420</td>\n",
       "      <td>0.180745</td>\n",
       "      <td>5.387466</td>\n",
       "      <td>101.0</td>\n",
       "      <td>57.000000</td>\n",
       "      <td>56.435644</td>\n",
       "      <td>6.939130</td>\n",
       "      <td>10.182953</td>\n",
       "      <td>12.050106</td>\n",
       "      <td>13.232048</td>\n",
       "      <td>19.891396</td>\n",
       "    </tr>\n",
       "    <tr>\n",
       "      <th>50%</th>\n",
       "      <td>10.0</td>\n",
       "      <td>5.000000</td>\n",
       "      <td>0.780741</td>\n",
       "      <td>6.924121</td>\n",
       "      <td>0.188694</td>\n",
       "      <td>5.463368</td>\n",
       "      <td>101.0</td>\n",
       "      <td>70.500000</td>\n",
       "      <td>69.801980</td>\n",
       "      <td>7.271595</td>\n",
       "      <td>10.889040</td>\n",
       "      <td>12.386676</td>\n",
       "      <td>13.932452</td>\n",
       "      <td>20.675151</td>\n",
       "    </tr>\n",
       "    <tr>\n",
       "      <th>75%</th>\n",
       "      <td>10.0</td>\n",
       "      <td>10.000000</td>\n",
       "      <td>0.800907</td>\n",
       "      <td>9.706454</td>\n",
       "      <td>0.202545</td>\n",
       "      <td>5.506657</td>\n",
       "      <td>101.0</td>\n",
       "      <td>72.750000</td>\n",
       "      <td>72.029703</td>\n",
       "      <td>8.096063</td>\n",
       "      <td>12.445400</td>\n",
       "      <td>14.591324</td>\n",
       "      <td>16.550260</td>\n",
       "      <td>21.149081</td>\n",
       "    </tr>\n",
       "    <tr>\n",
       "      <th>max</th>\n",
       "      <td>10.0</td>\n",
       "      <td>15.000000</td>\n",
       "      <td>0.837955</td>\n",
       "      <td>9.781198</td>\n",
       "      <td>0.314057</td>\n",
       "      <td>5.550407</td>\n",
       "      <td>101.0</td>\n",
       "      <td>76.000000</td>\n",
       "      <td>75.247525</td>\n",
       "      <td>8.445940</td>\n",
       "      <td>12.901190</td>\n",
       "      <td>15.093940</td>\n",
       "      <td>17.635664</td>\n",
       "      <td>21.468674</td>\n",
       "    </tr>\n",
       "  </tbody>\n",
       "</table>\n",
       "</div>"
      ],
      "text/plain": [
       "       numCalib    numCons  correlation       rmsd  correlation_bl    rmsd_bl  \\\n",
       "count      10.0  10.000000    10.000000  10.000000       10.000000  10.000000   \n",
       "mean       10.0   6.200000     0.728592   7.836403        0.203783   5.412197   \n",
       "std         0.0   5.940445     0.101601   1.647849        0.059770   0.145808   \n",
       "min        10.0   0.000000     0.609125   6.102455        0.139954   5.105266   \n",
       "25%        10.0   1.000000     0.614840   6.673420        0.180745   5.387466   \n",
       "50%        10.0   5.000000     0.780741   6.924121        0.188694   5.463368   \n",
       "75%        10.0  10.000000     0.800907   9.706454        0.202545   5.506657   \n",
       "max        10.0  15.000000     0.837955   9.781198        0.314057   5.550407   \n",
       "\n",
       "       num_nodes   numInHPD  fracInHPD   percent0  percent25  percent50  \\\n",
       "count       10.0  10.000000  10.000000  10.000000  10.000000  10.000000   \n",
       "mean       101.0  66.200000  65.544554   7.482952  11.254032  13.137640   \n",
       "std          0.0   8.508819   8.424573   0.648531   1.223928   1.376961   \n",
       "min        101.0  56.000000  55.445545   6.651500   9.793452  11.757068   \n",
       "25%        101.0  57.000000  56.435644   6.939130  10.182953  12.050106   \n",
       "50%        101.0  70.500000  69.801980   7.271595  10.889040  12.386676   \n",
       "75%        101.0  72.750000  72.029703   8.096063  12.445400  14.591324   \n",
       "max        101.0  76.000000  75.247525   8.445940  12.901190  15.093940   \n",
       "\n",
       "       percents75  percent100  \n",
       "count   10.000000   10.000000  \n",
       "mean    14.752668   20.533541  \n",
       "std      1.997832    0.762688  \n",
       "min     12.462600   19.463106  \n",
       "25%     13.232048   19.891396  \n",
       "50%     13.932452   20.675151  \n",
       "75%     16.550260   21.149081  \n",
       "max     17.635664   21.468674  "
      ]
     },
     "execution_count": 6,
     "metadata": {},
     "output_type": "execute_result"
    }
   ],
   "source": [
    "d.describe()\n"
   ]
  },
  {
   "cell_type": "markdown",
   "metadata": {},
   "source": [
    "## Analysis of the impact of constraints\n",
    "In the following 6 plots, we investigate the impact of constraints."
   ]
  },
  {
   "cell_type": "code",
   "execution_count": 7,
   "metadata": {},
   "outputs": [
    {
     "data": {
      "text/plain": [
       "[Text(0, 0.5, 'Correlation in branch lengths'),\n",
       " Text(0.5, 0, 'Number of constraints')]"
      ]
     },
     "execution_count": 7,
     "metadata": {},
     "output_type": "execute_result"
    },
    {
     "data": {
      "image/png": "[encoded data removed]",
      "text/plain": [
       "<Figure size 720x360 with 1 Axes>"
      ]
     },
     "metadata": {
      "needs_background": "light"
     },
     "output_type": "display_data"
    }
   ],
   "source": [
    "%matplotlib inline\n",
    "fig, ax = plt.subplots(figsize=(10, 5))\n",
    "sns.set_style(\"whitegrid\")\n",
    "ax = sns.scatterplot(d[\"numCons\"], y=d[\"correlation_bl\"], color=\"white\", edgecolor=\"gray\", hue=d[\"balanced\"])\n",
    "ax.set(xlabel='Number of constraints', ylabel='Correlation in branch lengths')"
   ]
  },
  {
   "cell_type": "code",
   "execution_count": 8,
   "metadata": {},
   "outputs": [
    {
     "data": {
      "text/plain": [
       "[Text(0, 0.5, 'RMSD in branch lengths'), Text(0.5, 0, 'Number of constraints')]"
      ]
     },
     "execution_count": 8,
     "metadata": {},
     "output_type": "execute_result"
    },
    {
     "data": {
      "image/png": "[encoded data removed]",
      "text/plain": [
       "<Figure size 720x360 with 1 Axes>"
      ]
     },
     "metadata": {
      "needs_background": "light"
     },
     "output_type": "display_data"
    }
   ],
   "source": [
    "%matplotlib inline\n",
    "fig, ax = plt.subplots(figsize=(10, 5))\n",
    "sns.set_style(\"whitegrid\")\n",
    "ax = sns.scatterplot(d[\"numCons\"], y=d[\"rmsd_bl\"], color=\"white\", edgecolor=\"gray\", hue=d[\"balanced\"])\n",
    "ax.set(xlabel='Number of constraints', ylabel='RMSD in branch lengths')"
   ]
  },
  {
   "cell_type": "code",
   "execution_count": 11,
   "metadata": {},
   "outputs": [
    {
     "data": {
      "text/plain": [
       "[Text(0, 0.5, 'RMSD in node ages'), Text(0.5, 0, 'Number of constraints')]"
      ]
     },
     "execution_count": 11,
     "metadata": {},
     "output_type": "execute_result"
    },
    {
     "data": {
      "image/png": "[encoded data removed]",
      "text/plain": [
       "<Figure size 720x360 with 1 Axes>"
      ]
     },
     "metadata": {
      "needs_background": "light"
     },
     "output_type": "display_data"
    }
   ],
   "source": [
    "%matplotlib inline\n",
    "fig, ax = plt.subplots(figsize=(10, 5))\n",
    "sns.set_style(\"whitegrid\")\n",
    "ax = sns.scatterplot(d[\"numCons\"], y=d[\"rmsd\"], color=\"white\", edgecolor=\"gray\", hue=d[\"balanced\"])\n",
    "ax.set(xlabel='Number of constraints', ylabel='RMSD in node ages')\n"
   ]
  },
  {
   "cell_type": "code",
   "execution_count": 12,
   "metadata": {},
   "outputs": [
    {
     "data": {
      "text/plain": [
       "[Text(0, 0.5, 'Correlation with true dates'),\n",
       " Text(0.5, 0, 'Number of constraints')]"
      ]
     },
     "execution_count": 12,
     "metadata": {},
     "output_type": "execute_result"
    },
    {
     "data": {
      "image/png": "[encoded data removed]",
      "text/plain": [
       "<Figure size 720x360 with 1 Axes>"
      ]
     },
     "metadata": {
      "needs_background": "light"
     },
     "output_type": "display_data"
    }
   ],
   "source": [
    "%matplotlib inline\n",
    "fig, ax = plt.subplots(figsize=(10, 5))\n",
    "sns.set_style(\"whitegrid\")\n",
    "ax = sns.scatterplot(d[\"numCons\"], y=d[\"correlation\"], color=\"white\", edgecolor=\"gray\", hue=d[\"balanced\"])\n",
    "ax.set(xlabel='Number of constraints', ylabel='Correlation with true dates')"
   ]
  },
  {
   "cell_type": "code",
   "execution_count": 13,
   "metadata": {},
   "outputs": [
    {
     "data": {
      "text/plain": [
       "[Text(0, 0.5, 'Fraction of dates in 95% HPD'),\n",
       " Text(0.5, 0, 'Number of constraints')]"
      ]
     },
     "execution_count": 13,
     "metadata": {},
     "output_type": "execute_result"
    },
    {
     "data": {
      "image/png": "[encoded data removed]",
      "text/plain": [
       "<Figure size 720x360 with 1 Axes>"
      ]
     },
     "metadata": {
      "needs_background": "light"
     },
     "output_type": "display_data"
    }
   ],
   "source": [
    "%matplotlib inline\n",
    "fig, ax = plt.subplots(figsize=(10, 5))\n",
    "sns.set_style(\"whitegrid\")\n",
    "ax = sns.scatterplot(d[\"numCons\"], y=d[\"fracInHPD\"], color=\"white\", edgecolor=\"gray\", hue=d[\"balanced\"])\n",
    "ax.set(xlabel='Number of constraints', ylabel='Fraction of dates in 95% HPD')"
   ]
  },
  {
   "cell_type": "code",
   "execution_count": 14,
   "metadata": {},
   "outputs": [
    {
     "data": {
      "text/plain": [
       "[Text(0, 0.5, 'Median size of the 95% HPD'),\n",
       " Text(0.5, 0, 'Number of constraints')]"
      ]
     },
     "execution_count": 14,
     "metadata": {},
     "output_type": "execute_result"
    },
    {
     "data": {
      "image/png": "[encoded data removed]",
      "text/plain": [
       "<Figure size 720x360 with 1 Axes>"
      ]
     },
     "metadata": {
      "needs_background": "light"
     },
     "output_type": "display_data"
    }
   ],
   "source": [
    "%matplotlib inline\n",
    "fig, ax = plt.subplots(figsize=(10, 5))\n",
    "sns.set_style(\"whitegrid\")\n",
    "ax = sns.scatterplot(d[\"numCons\"], y=d[\"percent50\"], color=\"white\", edgecolor=\"gray\", hue=d[\"balanced\"])\n",
    "ax.set(xlabel='Number of constraints', ylabel='Median size of the 95% HPD')"
   ]
  },
  {
   "cell_type": "markdown",
   "metadata": {},
   "source": [
    "### Partial conclusion on the above\n",
    "As the number of constraints increases from 0 to 15, the accuracy of the reconstruction improves, despite smaller 95%HPD. Using all constraints available, we usually get better results, and smaller 95%HPD."
   ]
  },
  {
   "cell_type": "markdown",
   "metadata": {},
   "source": [
    "## Analysis of informative vs uninformative constraints"
   ]
  },
  {
   "cell_type": "code",
   "execution_count": 21,
   "metadata": {},
   "outputs": [],
   "source": [
    "d = pd.read_csv (\"resultAllTreesInfoUninfoExcerptWith0Constraint.txt\", sep=\"\\t\", header=None, names=colNames)"
   ]
  },
  {
   "cell_type": "code",
   "execution_count": 22,
   "metadata": {},
   "outputs": [
    {
     "data": {
      "text/plain": [
       "[Text(0, 0.5, 'Correlation in branch lengths'),\n",
       " Text(0.5, 0, 'Number of constraints')]"
      ]
     },
     "execution_count": 22,
     "metadata": {},
     "output_type": "execute_result"
    },
    {
     "data": {
      "image/png": "[encoded data removed]",
      "text/plain": [
       "<Figure size 720x360 with 1 Axes>"
      ]
     },
     "metadata": {
      "needs_background": "light"
     },
     "output_type": "display_data"
    }
   ],
   "source": [
    "%matplotlib inline\n",
    "fig, ax = plt.subplots(figsize=(10, 5))\n",
    "sns.set_style(\"whitegrid\")\n",
    "ax = sns.scatterplot(d[\"numCons\"], y=d[\"correlation_bl\"], color=\"white\", edgecolor=\"gray\", hue=d[\"balanced\"])\n",
    "ax.set(xlabel='Number of constraints', ylabel='Correlation in branch lengths')"
   ]
  },
  {
   "cell_type": "code",
   "execution_count": 23,
   "metadata": {},
   "outputs": [
    {
     "data": {
      "text/plain": [
       "[Text(0, 0.5, 'RMSD in branch lengths'), Text(0.5, 0, 'Number of constraints')]"
      ]
     },
     "execution_count": 23,
     "metadata": {},
     "output_type": "execute_result"
    },
    {
     "data": {
      "image/png": "[encoded data removed]",
      "text/plain": [
       "<Figure size 720x360 with 1 Axes>"
      ]
     },
     "metadata": {
      "needs_background": "light"
     },
     "output_type": "display_data"
    }
   ],
   "source": [
    "%matplotlib inline\n",
    "fig, ax = plt.subplots(figsize=(10, 5))\n",
    "sns.set_style(\"whitegrid\")\n",
    "ax = sns.scatterplot(d[\"numCons\"], y=d[\"rmsd_bl\"], color=\"white\", edgecolor=\"gray\", hue=d[\"balanced\"])\n",
    "ax.set(xlabel='Number of constraints', ylabel='RMSD in branch lengths')"
   ]
  },
  {
   "cell_type": "code",
   "execution_count": 24,
   "metadata": {},
   "outputs": [
    {
     "data": {
      "text/plain": [
       "[Text(0, 0.5, 'RMSD in node ages'), Text(0.5, 0, 'Number of constraints')]"
      ]
     },
     "execution_count": 24,
     "metadata": {},
     "output_type": "execute_result"
    },
    {
     "data": {
      "image/png": "[encoded data removed]",
      "text/plain": [
       "<Figure size 720x360 with 1 Axes>"
      ]
     },
     "metadata": {
      "needs_background": "light"
     },
     "output_type": "display_data"
    }
   ],
   "source": [
    "%matplotlib inline\n",
    "fig, ax = plt.subplots(figsize=(10, 5))\n",
    "sns.set_style(\"whitegrid\")\n",
    "ax = sns.scatterplot(d[\"numCons\"], y=d[\"rmsd\"], color=\"white\", edgecolor=\"gray\", hue=d[\"balanced\"])\n",
    "ax.set(xlabel='Number of constraints', ylabel='RMSD in node ages')"
   ]
  },
  {
   "cell_type": "code",
   "execution_count": 25,
   "metadata": {},
   "outputs": [
    {
     "data": {
      "text/plain": [
       "[Text(0, 0.5, 'Correlation with true dates'),\n",
       " Text(0.5, 0, 'Number of constraints')]"
      ]
     },
     "execution_count": 25,
     "metadata": {},
     "output_type": "execute_result"
    },
    {
     "data": {
      "image/png": "[encoded data removed]",
      "text/plain": [
       "<Figure size 720x360 with 1 Axes>"
      ]
     },
     "metadata": {
      "needs_background": "light"
     },
     "output_type": "display_data"
    }
   ],
   "source": [
    "%matplotlib inline\n",
    "fig, ax = plt.subplots(figsize=(10, 5))\n",
    "sns.set_style(\"whitegrid\")\n",
    "ax = sns.scatterplot(d[\"numCons\"], y=d[\"correlation\"], color=\"white\", edgecolor=\"gray\", hue=d[\"balanced\"])\n",
    "ax.set(xlabel='Number of constraints', ylabel='Correlation with true dates')"
   ]
  },
  {
   "cell_type": "code",
   "execution_count": 26,
   "metadata": {},
   "outputs": [
    {
     "data": {
      "text/plain": [
       "[Text(0, 0.5, 'Fraction of dates in 95% HPD'),\n",
       " Text(0.5, 0, 'Number of constraints')]"
      ]
     },
     "execution_count": 26,
     "metadata": {},
     "output_type": "execute_result"
    },
    {
     "data": {
      "image/png": "[encoded data removed]",
      "text/plain": [
       "<Figure size 720x360 with 1 Axes>"
      ]
     },
     "metadata": {
      "needs_background": "light"
     },
     "output_type": "display_data"
    }
   ],
   "source": [
    "%matplotlib inline\n",
    "fig, ax = plt.subplots(figsize=(10, 5))\n",
    "sns.set_style(\"whitegrid\")\n",
    "ax = sns.scatterplot(d[\"numCons\"], y=d[\"fracInHPD\"], color=\"white\", edgecolor=\"gray\", hue=d[\"balanced\"])\n",
    "ax.set(xlabel='Number of constraints', ylabel='Fraction of dates in 95% HPD')"
   ]
  },
  {
   "cell_type": "markdown",
   "metadata": {},
   "source": [
    "### Partial conclusion on the above\n",
    "It helps to have uninformative constraints much more than informative constraints (the name may need to change...). It is possible that constraints between nodes whose ages are similar (which I called informative) are in fact not very useful: it makes little difference to the ages of the nodes in the entire tree to know that A is slightly older than B. Constraints between nodes whose ages are very different make a difference: they forbid some dating configurations, which may have consequences over the whole tree. "
   ]
  },
  {
   "cell_type": "markdown",
   "metadata": {},
   "source": [
    "## OLD THINGS FROM THERE : DO NOT BOTHER READING IT.\n",
    "Analysis of the impact of calibrations\n",
    "In the following 6 plots, we investigate the impact of calibrations, not controlling for the number of constraints."
   ]
  },
  {
   "cell_type": "code",
   "execution_count": null,
   "metadata": {},
   "outputs": [],
   "source": [
    "%matplotlib inline\n",
    "sns.set_style(\"whitegrid\")\n",
    "ax = sns.violinplot(d[\"numCalib\"], y=d[\"rmsd_bl\"], inner=None)\n",
    "ax = sns.swarmplot(d[\"numCalib\"], y=d[\"rmsd_bl\"], color=\"white\", edgecolor=\"gray\")\n",
    "ax.set(xlabel='Number of calibrations', ylabel='RMSD in branch lengths')"
   ]
  },
  {
   "cell_type": "code",
   "execution_count": null,
   "metadata": {},
   "outputs": [],
   "source": [
    "%matplotlib inline\n",
    "sns.set_style(\"whitegrid\")\n",
    "ax = sns.violinplot(d[\"numCalib\"], y=d[\"correlation_bl\"], inner=None)\n",
    "ax = sns.swarmplot(d[\"numCalib\"], y=d[\"correlation_bl\"], color=\"white\", edgecolor=\"gray\")\n",
    "ax.set(xlabel='Number of calibrations', ylabel='Correlation in branch lengths')"
   ]
  },
  {
   "cell_type": "code",
   "execution_count": null,
   "metadata": {},
   "outputs": [],
   "source": [
    "%matplotlib inline\n",
    "sns.set_style(\"whitegrid\")\n",
    "ax = sns.violinplot(d[\"numCalib\"], y=d[\"rmsd\"], inner=None)\n",
    "ax = sns.swarmplot(d[\"numCalib\"], y=d[\"rmsd\"], color=\"white\", edgecolor=\"gray\")\n",
    "ax.set(xlabel='Number of calibrations', ylabel='RMSD in node ages')"
   ]
  },
  {
   "cell_type": "code",
   "execution_count": null,
   "metadata": {},
   "outputs": [],
   "source": [
    "%matplotlib inline\n",
    "sns.set_style(\"whitegrid\")\n",
    "ax = sns.violinplot(d[\"numCalib\"], y=d[\"correlation\"], inner=None)\n",
    "ax = sns.swarmplot(d[\"numCalib\"], y=d[\"correlation\"], color=\"white\", edgecolor=\"gray\")\n",
    "ax.set(xlabel='Number of calibrations', ylabel='Correlation with true dates')"
   ]
  },
  {
   "cell_type": "code",
   "execution_count": null,
   "metadata": {},
   "outputs": [],
   "source": [
    "%matplotlib inline\n",
    "sns.set_style(\"whitegrid\")\n",
    "ax = sns.violinplot(d[\"numCalib\"], y=d[\"fracInHPD\"], inner=None)\n",
    "ax = sns.swarmplot(d[\"numCalib\"], y=d[\"fracInHPD\"], color=\"white\", edgecolor=\"gray\")\n",
    "ax.set(xlabel='Number of calibrations', ylabel='Fraction in 95% HPD')"
   ]
  },
  {
   "cell_type": "code",
   "execution_count": null,
   "metadata": {},
   "outputs": [],
   "source": [
    "%matplotlib inline\n",
    "sns.set_style(\"whitegrid\")\n",
    "ax = sns.violinplot(d[\"numCalib\"], y=d[\"percent50\"], inner=None)\n",
    "ax = sns.swarmplot(d[\"numCalib\"], y=d[\"percent50\"], color=\"white\", edgecolor=\"gray\")\n",
    "ax.set(xlabel='Number of calibrations', ylabel='Median size of the 95% HPD')"
   ]
  },
  {
   "cell_type": "markdown",
   "metadata": {},
   "source": [
    "### Partial conclusion on the above\n",
    "As the number of calibrations increases from 0 to 5, the accuracy of the reconstruction improves, despite smaller 95%HPD. The effect of calibrations seems stronger than that of constraints."
   ]
  },
  {
   "cell_type": "markdown",
   "metadata": {},
   "source": [
    "## Let's look at constraints, controlling for calibrations\n",
    "In the following 10 plots, we separate the impacts of constraints and calibrations."
   ]
  },
  {
   "cell_type": "code",
   "execution_count": null,
   "metadata": {},
   "outputs": [],
   "source": [
    "%matplotlib inline\n",
    "ax = sns.barplot(hue=\"numCons\", y=\"rmsd_bl\", x=\"numCalib\", data=d)\n",
    "#ax.set_ylim(0.8, 1.0)\n",
    "ax.set(xlabel='Number of calibrations', ylabel='Average rmsd in branch lengths')\n",
    "# Put the legend out of the figure\n",
    "handles, labels = ax.get_legend_handles_labels()\n",
    "ax.legend(bbox_to_anchor=(1.05, 1), loc=2, borderaxespad=0., handles=handles, labels=[\"0 constraint\", \"1 constraint\", \"3 constraints\", \"5 constraints\",\"10 constraints\", \"20 constraints\",\"50 constraints\"])"
   ]
  },
  {
   "cell_type": "code",
   "execution_count": null,
   "metadata": {},
   "outputs": [],
   "source": [
    "%matplotlib inline\n",
    "ax = sns.barplot(hue=\"numCons\", y=\"correlation_bl\", x=\"numCalib\", data=d)\n",
    "#ax.set_ylim(0.8, 1.0)\n",
    "ax.set(xlabel='Number of calibrations', ylabel='Average correlation in branch lengths')\n",
    "# Put the legend out of the figure\n",
    "handles, labels = ax.get_legend_handles_labels()\n",
    "ax.legend(bbox_to_anchor=(1.05, 1), loc=2, borderaxespad=0., handles=handles, labels=[\"0 constraint\", \"1 constraint\", \"3 constraints\", \"5 constraints\",\"10 constraints\", \"20 constraints\",\"50 constraints\"])"
   ]
  },
  {
   "cell_type": "code",
   "execution_count": null,
   "metadata": {},
   "outputs": [],
   "source": [
    "%matplotlib inline\n",
    "ax = sns.barplot(hue=\"numCons\", y=\"rmsd\", x=\"numCalib\", data=d)\n",
    "#ax.set_ylim(0.8, 1.0)\n",
    "ax.set(xlabel='Number of calibrations', ylabel='Average rmsd in node ages')\n",
    "# Put the legend out of the figure\n",
    "handles, labels = ax.get_legend_handles_labels()\n",
    "ax.legend(bbox_to_anchor=(1.05, 1), loc=2, borderaxespad=0., handles=handles, labels=[\"0 constraint\", \"1 constraint\", \"3 constraints\", \"5 constraints\",\"10 constraints\", \"20 constraints\",\"50 constraints\"])"
   ]
  },
  {
   "cell_type": "code",
   "execution_count": null,
   "metadata": {},
   "outputs": [],
   "source": [
    "%matplotlib inline\n",
    "ax = sns.barplot(hue=\"numCons\", y=\"correlation\", x=\"numCalib\", data=d)\n",
    "ax.set_ylim(0.8, 1.0)\n",
    "ax.set(xlabel='Number of calibrations', ylabel='Average correlation in node ages')\n",
    "# Put the legend out of the figure\n",
    "handles, labels = ax.get_legend_handles_labels()\n",
    "ax.legend(bbox_to_anchor=(1.05, 1), loc=2, borderaxespad=0., handles=handles, labels=[\"0 constraint\", \"1 constraint\", \"3 constraints\", \"5 constraints\",\"10 constraints\", \"20 constraints\",\"50 constraints\"])"
   ]
  },
  {
   "cell_type": "code",
   "execution_count": null,
   "metadata": {},
   "outputs": [],
   "source": [
    "%matplotlib inline\n",
    "ax = sns.barplot(hue=\"numCons\", y=\"fracInHPD\", x=\"numCalib\", data=d)\n",
    "ax.set_ylim(50, 90)\n",
    "ax.set(xlabel='Number of calibrations', ylabel='Average fraction in 95% HPD')\n",
    "# Put the legend out of the figure\n",
    "handles, labels = ax.get_legend_handles_labels()\n",
    "ax.legend(bbox_to_anchor=(1.05, 1), loc=2, borderaxespad=0., handles=handles, labels=[\"0 constraint\", \"1 constraint\", \"3 constraints\", \"5 constraints\",\"10 constraints\", \"20 constraints\",\"50 constraints\"])"
   ]
  },
  {
   "cell_type": "code",
   "execution_count": null,
   "metadata": {},
   "outputs": [],
   "source": [
    "%matplotlib inline\n",
    "ax = sns.barplot(hue=\"numCons\", y=\"percent0\", x=\"numCalib\", data=d)\n",
    "ax.set(xlabel='Number of calibrations', ylabel='Average smallest 95% HPD')\n",
    "# Put the legend out of the figure\n",
    "handles, labels = ax.get_legend_handles_labels()\n",
    "ax.legend(bbox_to_anchor=(1.05, 1), loc=2, borderaxespad=0., handles=handles, labels=[\"0 constraint\", \"1 constraint\", \"3 constraints\", \"5 constraints\",\"10 constraints\", \"20 constraints\",\"50 constraints\"])"
   ]
  },
  {
   "cell_type": "code",
   "execution_count": null,
   "metadata": {},
   "outputs": [],
   "source": [
    "%matplotlib inline\n",
    "ax = sns.barplot(hue=\"numCons\", y=\"percent25\", x=\"numCalib\", data=d)\n",
    "ax.set(xlabel='Number of calibrations', ylabel='Average 1st quartile 95% HPD')\n",
    "# Put the legend out of the figure\n",
    "handles, labels = ax.get_legend_handles_labels()\n",
    "ax.legend(bbox_to_anchor=(1.05, 1), loc=2, borderaxespad=0., handles=handles, labels=[\"0 constraint\", \"1 constraint\", \"3 constraints\", \"5 constraints\",\"10 constraints\", \"20 constraints\",\"50 constraints\"])"
   ]
  },
  {
   "cell_type": "code",
   "execution_count": null,
   "metadata": {},
   "outputs": [],
   "source": [
    "%matplotlib inline\n",
    "ax = sns.barplot(hue=\"numCons\", y=\"percent50\", x=\"numCalib\", data=d)\n",
    "ax.set(xlabel='Number of calibrations', ylabel='Average median 95% HPD')\n",
    "# Put the legend out of the figure\n",
    "handles, labels = ax.get_legend_handles_labels()\n",
    "ax.legend(bbox_to_anchor=(1.05, 1), loc=2, borderaxespad=0., handles=handles, labels=[\"0 constraint\", \"1 constraint\", \"3 constraints\", \"5 constraints\",\"10 constraints\", \"20 constraints\",\"50 constraints\"])"
   ]
  },
  {
   "cell_type": "code",
   "execution_count": null,
   "metadata": {},
   "outputs": [],
   "source": [
    "%matplotlib inline\n",
    "ax = sns.barplot(hue=\"numCons\", y=\"percent75\", x=\"numCalib\", data=d)\n",
    "ax.set(xlabel='Number of calibrations', ylabel='Average 3rd quartile 95% HPD')\n",
    "# Put the legend out of the figure\n",
    "handles, labels = ax.get_legend_handles_labels()\n",
    "ax.legend(bbox_to_anchor=(1.05, 1), loc=2, borderaxespad=0., handles=handles, labels=[\"0 constraint\", \"1 constraint\", \"3 constraints\", \"5 constraints\",\"10 constraints\", \"20 constraints\",\"50 constraints\"])"
   ]
  },
  {
   "cell_type": "code",
   "execution_count": null,
   "metadata": {},
   "outputs": [],
   "source": [
    "%matplotlib inline\n",
    "ax = sns.barplot(hue=\"numCons\", y=\"percent100\", x=\"numCalib\", data=d)\n",
    "ax.set(xlabel='Number of calibrations', ylabel='Average maximum 95% HPD')\n",
    "# Put the legend out of the figure\n",
    "handles, labels = ax.get_legend_handles_labels()\n",
    "ax.legend(bbox_to_anchor=(1.05, 1), loc=2, borderaxespad=0., handles=handles, labels=[\"0 constraint\", \"1 constraint\", \"3 constraints\", \"5 constraints\",\"10 constraints\", \"20 constraints\",\"50 constraints\"])"
   ]
  },
  {
   "cell_type": "markdown",
   "metadata": {},
   "source": [
    "### Partial conclusion on the above\n",
    "Constraints and calibrations both improve accuracy. The number of constraints does not seem to have much of an effect on the size of the 95% HPD, contrary to calibrations, unless you get to lots of constraints (20, 5à or 100). However, when using large numbers of constraints, results are much improved, although with a lot of variance if there aren't any calibration. It is possible that on some trees convergence was difficult in the fully constrained runs."
   ]
  },
  {
   "cell_type": "markdown",
   "metadata": {},
   "source": [
    "## Comparison between trees\n",
    "In the following 6 plots, we look at the impact of the 10 different trees."
   ]
  },
  {
   "cell_type": "markdown",
   "metadata": {},
   "source": [
    "First let's order the trees from good to bad according to the correlation in node ages when all constraints are used:"
   ]
  },
  {
   "cell_type": "code",
   "execution_count": null,
   "metadata": {},
   "outputs": [],
   "source": [
    "d_sel = d.loc[d['numCons'] == 100]\n",
    "print(d_sel.sort_values(['correlation'], ascending=False))"
   ]
  },
  {
   "cell_type": "code",
   "execution_count": null,
   "metadata": {},
   "outputs": [],
   "source": [
    "%matplotlib inline\n",
    "sns.set_style(\"whitegrid\")\n",
    "ax = sns.violinplot(d[\"treeId\"], y=d[\"rmsd\"], inner=None)\n",
    "ax = sns.swarmplot(d[\"treeId\"], y=d[\"rmsd\"], color=\"white\", edgecolor=\"gray\")\n",
    "ax.set(xlabel='Tree ID', ylabel='Rmsd in node ages')\n"
   ]
  },
  {
   "cell_type": "code",
   "execution_count": null,
   "metadata": {},
   "outputs": [],
   "source": [
    "%matplotlib inline\n",
    "sns.set_style(\"whitegrid\")\n",
    "ax = sns.violinplot(d[\"treeId\"], y=d[\"correlation\"], inner=None)\n",
    "ax = sns.swarmplot(d[\"treeId\"], y=d[\"correlation\"], color=\"white\", edgecolor=\"gray\")\n",
    "ax.set(xlabel='Tree ID', ylabel='Correlation in node ages')\n"
   ]
  },
  {
   "cell_type": "code",
   "execution_count": null,
   "metadata": {},
   "outputs": [],
   "source": [
    "%matplotlib inline\n",
    "sns.set_style(\"whitegrid\")\n",
    "ax = sns.violinplot(d[\"treeId\"], y=d[\"rmsd_bl\"], inner=None)\n",
    "ax = sns.swarmplot(d[\"treeId\"], y=d[\"rmsd_bl\"], color=\"white\", edgecolor=\"gray\")\n",
    "ax.set(xlabel='Tree ID', ylabel='Rmsd in branch lengths')\n"
   ]
  },
  {
   "cell_type": "code",
   "execution_count": null,
   "metadata": {},
   "outputs": [],
   "source": [
    "%matplotlib inline\n",
    "sns.set_style(\"whitegrid\")\n",
    "ax = sns.violinplot(d[\"treeId\"], y=d[\"correlation_bl\"], inner=None)\n",
    "ax = sns.swarmplot(d[\"treeId\"], y=d[\"correlation_bl\"], color=\"white\", edgecolor=\"gray\")\n",
    "ax.set(xlabel='Tree ID', ylabel='Correlation in branch lengths')\n"
   ]
  },
  {
   "cell_type": "code",
   "execution_count": null,
   "metadata": {},
   "outputs": [],
   "source": [
    "%matplotlib inline\n",
    "sns.set_style(\"whitegrid\")\n",
    "ax = sns.violinplot(d[\"treeId\"], y=d[\"fracInHPD\"], inner=None)\n",
    "ax = sns.swarmplot(d[\"treeId\"], y=d[\"fracInHPD\"], color=\"white\", edgecolor=\"gray\")\n",
    "ax.set(xlabel='Tree ID', ylabel='Fraction in 95% HPD')\n"
   ]
  },
  {
   "cell_type": "code",
   "execution_count": null,
   "metadata": {},
   "outputs": [],
   "source": [
    "%matplotlib inline\n",
    "ax = sns.barplot(hue=\"numReplicate\", y=\"fracInHPD\", x=\"treeId\", data=d)\n",
    "ax.set(xlabel='Tree ID', ylabel='Average fraction in 95% HPD')\n",
    "# Put the legend out of the figure\n",
    "handles, labels = ax.get_legend_handles_labels()\n",
    "ax.legend(bbox_to_anchor=(1.05, 1), loc=2, borderaxespad=0., handles=handles, labels=[\"Replicate 1\", \"Replicate 2\", \"Replicate 3\", \"Replicate 4\", \"Replicate 5\"])"
   ]
  },
  {
   "cell_type": "markdown",
   "metadata": {},
   "source": [
    "### Partial conclusion on the above\n",
    "Some trees are consistently easy, some consistently hard, even when we use all constraints.\n",
    "If we had to order the trees from easy to hard, I'd say:\n",
    "3 8 1 5 4 7 9 10 2 6"
   ]
  },
  {
   "cell_type": "markdown",
   "metadata": {},
   "source": [
    "## Results obtained on easy trees 3 and 8"
   ]
  },
  {
   "cell_type": "code",
   "execution_count": null,
   "metadata": {},
   "outputs": [],
   "source": [
    "d_easy = d.loc[d['treeId'].isin([3,8])]\n",
    "d_easy.describe()"
   ]
  },
  {
   "cell_type": "code",
   "execution_count": null,
   "metadata": {},
   "outputs": [],
   "source": [
    "%matplotlib inline\n",
    "ax = sns.barplot(hue=\"numCons\", y=\"rmsd_bl\", x=\"numCalib\", data=d_easy)\n",
    "#ax.set_ylim(0.8, 1.0)\n",
    "ax.set(xlabel='Number of calibrations', ylabel='Average rmsd in branch lengths, easy trees')\n",
    "# Put the legend out of the figure\n",
    "handles, labels = ax.get_legend_handles_labels()\n",
    "ax.legend(bbox_to_anchor=(1.05, 1), loc=2, borderaxespad=0., handles=handles, labels=[\"0 constraint\", \"1 constraint\", \"3 constraints\", \"5 constraints\",\"10 constraints\",\"20 constraints\",\"50 constraints\" ])"
   ]
  },
  {
   "cell_type": "code",
   "execution_count": null,
   "metadata": {},
   "outputs": [],
   "source": [
    "%matplotlib inline\n",
    "ax = sns.barplot(hue=\"numCons\", y=\"correlation_bl\", x=\"numCalib\", data=d_easy)\n",
    "#ax.set_ylim(0.8, 1.0)\n",
    "ax.set(xlabel='Number of calibrations', ylabel='Average correlation in branch lengths, easy trees')\n",
    "# Put the legend out of the figure\n",
    "handles, labels = ax.get_legend_handles_labels()\n",
    "ax.legend(bbox_to_anchor=(1.05, 1), loc=2, borderaxespad=0., handles=handles, labels=[\"0 constraint\", \"1 constraint\", \"3 constraints\", \"5 constraints\",\"10 constraints\",\"20 constraints\",\"50 constraints\" ])"
   ]
  },
  {
   "cell_type": "code",
   "execution_count": null,
   "metadata": {},
   "outputs": [],
   "source": [
    "%matplotlib inline\n",
    "ax = sns.barplot(hue=\"numCons\", y=\"rmsd\", x=\"numCalib\", data=d_easy)\n",
    "#ax.set_ylim(0.8, 1.0)\n",
    "ax.set(xlabel='Number of calibrations', ylabel='Average rmsd in node ages, easy trees')\n",
    "# Put the legend out of the figure\n",
    "handles, labels = ax.get_legend_handles_labels()\n",
    "ax.legend(bbox_to_anchor=(1.05, 1), loc=2, borderaxespad=0., handles=handles, labels=[\"0 constraint\", \"1 constraint\", \"3 constraints\", \"5 constraints\",\"10 constraints\",\"20 constraints\",\"50 constraints\" ])"
   ]
  },
  {
   "cell_type": "code",
   "execution_count": null,
   "metadata": {},
   "outputs": [],
   "source": [
    "%matplotlib inline\n",
    "ax = sns.barplot(hue=\"numCons\", y=\"correlation\", x=\"numCalib\", data=d_easy)\n",
    "#ax.set_ylim(0.8, 1.0)\n",
    "ax.set(xlabel='Number of calibrations', ylabel='Average correlation in node ages, easy trees')\n",
    "# Put the legend out of the figure\n",
    "handles, labels = ax.get_legend_handles_labels()\n",
    "ax.legend(bbox_to_anchor=(1.05, 1), loc=2, borderaxespad=0., handles=handles, labels=[\"0 constraint\", \"1 constraint\", \"3 constraints\", \"5 constraints\",\"10 constraints\",\"20 constraints\",\"50 constraints\" ])"
   ]
  },
  {
   "cell_type": "markdown",
   "metadata": {},
   "source": [
    "## Results obtained on hard trees 2 and 10\n",
    "I decided against tree 6 where variance of the different runs is too wide."
   ]
  },
  {
   "cell_type": "code",
   "execution_count": null,
   "metadata": {},
   "outputs": [],
   "source": [
    "d_hard = d.loc[d['treeId'].isin([2,10])]\n",
    "d_hard.describe()"
   ]
  },
  {
   "cell_type": "code",
   "execution_count": null,
   "metadata": {},
   "outputs": [],
   "source": [
    "%matplotlib inline\n",
    "ax = sns.barplot(hue=\"numCons\", y=\"rmsd_bl\", x=\"numCalib\", data=d_hard)\n",
    "#ax.set_ylim(0.8, 1.0)\n",
    "ax.set(xlabel='Number of calibrations', ylabel='Average rmsd in branch lengths, hard trees')\n",
    "# Put the legend out of the figure\n",
    "handles, labels = ax.get_legend_handles_labels()\n",
    "ax.legend(bbox_to_anchor=(1.05, 1), loc=2, borderaxespad=0., handles=handles, labels=[\"0 constraint\", \"1 constraint\", \"3 constraints\", \"5 constraints\",\"10 constraints\",\"20 constraints\",\"50 constraints\" ])"
   ]
  },
  {
   "cell_type": "code",
   "execution_count": null,
   "metadata": {},
   "outputs": [],
   "source": [
    "%matplotlib inline\n",
    "ax = sns.barplot(hue=\"numCons\", y=\"correlation_bl\", x=\"numCalib\", data=d_hard)\n",
    "#ax.set_ylim(0.8, 1.0)\n",
    "ax.set(xlabel='Number of calibrations', ylabel='Average correlation in branch lengths, hard trees')\n",
    "# Put the legend out of the figure\n",
    "handles, labels = ax.get_legend_handles_labels()\n",
    "ax.legend(bbox_to_anchor=(1.05, 1), loc=2, borderaxespad=0., handles=handles, labels=[\"0 constraint\", \"1 constraint\", \"3 constraints\", \"5 constraints\",\"20 constraints\",\"50 constraints\",\"100 constraints\" ])"
   ]
  },
  {
   "cell_type": "code",
   "execution_count": null,
   "metadata": {},
   "outputs": [],
   "source": [
    "%matplotlib inline\n",
    "ax = sns.barplot(hue=\"numCons\", y=\"rmsd\", x=\"numCalib\", data=d_hard)\n",
    "#ax.set_ylim(0.8, 1.0)\n",
    "ax.set(xlabel='Number of calibrations', ylabel='Average rmsd in node ages, hard trees')\n",
    "# Put the legend out of the figure\n",
    "handles, labels = ax.get_legend_handles_labels()\n",
    "ax.legend(bbox_to_anchor=(1.05, 1), loc=2, borderaxespad=0., handles=handles, labels=[\"0 constraint\", \"1 constraint\", \"3 constraints\", \"5 constraints\",\"20 constraints\",\"50 constraints\",\"100 constraints\" ])"
   ]
  },
  {
   "cell_type": "code",
   "execution_count": null,
   "metadata": {},
   "outputs": [],
   "source": [
    "%matplotlib inline\n",
    "ax = sns.barplot(hue=\"numCons\", y=\"correlation\", x=\"numCalib\", data=d_hard)\n",
    "#ax.set_ylim(0.8, 1.0)\n",
    "ax.set(xlabel='Number of calibrations', ylabel='Average correlation in node ages, hard trees')\n",
    "# Put the legend out of the figure\n",
    "handles, labels = ax.get_legend_handles_labels()\n",
    "ax.legend(bbox_to_anchor=(1.05, 1), loc=2, borderaxespad=0., handles=handles, labels=[\"0 constraint\", \"1 constraint\", \"3 constraints\", \"5 constraints\",\"20 constraints\",\"50 constraints\",\"100 constraints\" ])"
   ]
  },
  {
   "cell_type": "markdown",
   "metadata": {},
   "source": [
    "### Partial conclusion on the above\n",
    "Constraints seem to help a little bit more on the easy trees than on the hard trees, but the effect is not massive. With all constraints, we see a nice improvement in both cases, but more variance on the two hard trees."
   ]
  },
  {
   "cell_type": "markdown",
   "metadata": {},
   "source": [
    "## Variation among replicates, controlling for a given set of conditions, focusing on constraints\n",
    "For a given number of constraints, calibrations, and a given tree, we want to assess how variable the results are, focusing on the impact of calibrations (whose number has been color-coded)."
   ]
  },
  {
   "cell_type": "code",
   "execution_count": null,
   "metadata": {
    "scrolled": true
   },
   "outputs": [],
   "source": [
    "\n",
    "#groupedByReplicates = d.groupby([\"treeId\",\"numCalib\",\"numCons\"], group_keys=True)\n",
    "#groupedByReplicates.describe()\n",
    "\n",
    "#groupedByReplicates.columns = [\"_\".join(x) for x in groupedByReplicates.columns.ravel()]\n",
    "#groupedByReplicates.describe()\n",
    "\n",
    "#groupedByReplicates[\"correlation\"]\n",
    "\n",
    "cors=pd.DataFrame({'var' : d.groupby( [\"treeId\",\"numCalib\",\"numCons\"] )[\"correlation\"].std()}).reset_index()\n",
    "# Let's drop the case with 100 constraints\n",
    "cors = cors[cors[\"numCons\"] != 100]\n",
    "cors = cors.reset_index(drop=True)\n",
    "#cors.head(130)\n",
    "\n",
    "    #pd.boxplot_frame_groupby(groupedByReplicates)\n",
    "#groupedByReplicates[\"correlation\"].boxplot()\n",
    "#print(d.groupby([\"treeId\",\"numCalib\",\"numCons\"])[\"correlation\"].var().unstack())\n",
    "#d.groupby([\"treeId\",\"numCalib\",\"numCons\"])[\"correlation\"].var().unstack().boxplot()"
   ]
  },
  {
   "cell_type": "code",
   "execution_count": null,
   "metadata": {
    "scrolled": true
   },
   "outputs": [],
   "source": [
    "%matplotlib inline\n",
    "\n",
    "# Select the color map named rainbow\n",
    "cmap = plt.cm.get_cmap(name='tab10')\n",
    "\n",
    "\n",
    "fig, ax = plt.subplots(figsize=(20, 10))\n",
    "for i in range(240):\n",
    "    mark = \"\"\n",
    "    if i < 24:\n",
    "        mark=\"o\"\n",
    "    elif i < 48:\n",
    "        mark=\"v\"\n",
    "    elif i < 72:\n",
    "        mark=\"^\"\n",
    "    elif i < 96:\n",
    "        mark=\"<\"\n",
    "    elif i < 120:\n",
    "        mark=\">\"\n",
    "    elif i < 144:\n",
    "        mark=\"8\"\n",
    "    elif i < 168:\n",
    "        mark=\"s\"\n",
    "    elif i < 192:\n",
    "        mark=\"p\"\n",
    "    elif i < 216:\n",
    "        mark=\"*\"\n",
    "    else:\n",
    "        mark=\"h\"\n",
    "    ax.plot(i, cors[\"var\"][i], mark, color = cmap(i % 6))\n",
    "\n",
    "patches=list()\n",
    "patches.append(matplotlib.patches.Patch(color=cmap(0), label='0 constraint'))\n",
    "patches.append(matplotlib.patches.Patch(color=cmap(1), label='1 constraints'))\n",
    "patches.append(matplotlib.patches.Patch(color=cmap(2), label='3 constraints'))\n",
    "patches.append(matplotlib.patches.Patch(color=cmap(3), label='5 constraints'))\n",
    "patches.append(matplotlib.patches.Patch(color=cmap(3), label='20 constraints'))\n",
    "patches.append(matplotlib.patches.Patch(color=cmap(3), label='50 constraints'))\n",
    "\n",
    "\n",
    "\n",
    "ax.legend(handles=patches)\n",
    "\n",
    "plt.xlabel(\"Condition\", fontsize=15)\n",
    "plt.ylabel(\"Standard deviation in correlation\", fontsize=15)\n"
   ]
  },
  {
   "cell_type": "code",
   "execution_count": null,
   "metadata": {},
   "outputs": [],
   "source": [
    "%matplotlib inline\n",
    "\n",
    "rmsd=pd.DataFrame({'var' : d.groupby( [\"treeId\",\"numCalib\",\"numCons\"] )[\"rmsd\"].std()}).reset_index()\n",
    "\n",
    "# Let's drop the case with 100 constraints\n",
    "rmsd = rmsd[rmsd[\"numCons\"] != 100]\n",
    "rmsd = rmsd.reset_index(drop=True)\n",
    "rmsd.head(130)\n",
    "\n",
    "\n",
    "# Select the color map\n",
    "cmap = plt.cm.get_cmap(name='tab10')\n",
    "\n",
    "fig, ax = plt.subplots(figsize=(20, 10))\n",
    "for i in range(240):\n",
    "    mark = \"\"\n",
    "    if i < 24:\n",
    "        mark=\"o\"\n",
    "    elif i < 48:\n",
    "        mark=\"v\"\n",
    "    elif i < 72:\n",
    "        mark=\"^\"\n",
    "    elif i < 96:\n",
    "        mark=\"<\"\n",
    "    elif i < 120:\n",
    "        mark=\">\"\n",
    "    elif i < 144:\n",
    "        mark=\"8\"\n",
    "    elif i < 168:\n",
    "        mark=\"s\"\n",
    "    elif i < 192:\n",
    "        mark=\"p\"\n",
    "    elif i < 216:\n",
    "        mark=\"*\"\n",
    "    else:\n",
    "        mark=\"h\"\n",
    "    ax.plot(i, rmsd[\"var\"][i], mark, color = cmap(i % 6))\n",
    "\n",
    "patches=list()\n",
    "patches.append(matplotlib.patches.Patch(color=cmap(0), label='0 constraint'))\n",
    "patches.append(matplotlib.patches.Patch(color=cmap(1), label='1 constraints'))\n",
    "patches.append(matplotlib.patches.Patch(color=cmap(2), label='3 constraints'))\n",
    "patches.append(matplotlib.patches.Patch(color=cmap(3), label='5 constraints'))\n",
    "patches.append(matplotlib.patches.Patch(color=cmap(4), label='20 constraints'))\n",
    "patches.append(matplotlib.patches.Patch(color=cmap(5), label='50 constraints'))\n",
    "\n",
    "\n",
    "ax.legend(handles=patches)\n",
    "\n",
    "plt.xlabel(\"Condition\", fontsize=15)\n",
    "plt.ylabel(\"Standard deviation in node age rmsd\", fontsize=15)"
   ]
  },
  {
   "cell_type": "code",
   "execution_count": null,
   "metadata": {
    "scrolled": true
   },
   "outputs": [],
   "source": [
    "%matplotlib inline\n",
    "\n",
    "fracInHPD=pd.DataFrame({'var' : d.groupby( [\"treeId\",\"numCalib\",\"numCons\"] )[\"fracInHPD\"].std()}).reset_index()\n",
    "\n",
    "# Let's drop the case with 100 constraints\n",
    "fracInHPD = fracInHPD[fracInHPD[\"numCons\"] != 100]\n",
    "fracInHPD = fracInHPD.reset_index(drop=True)\n",
    "fracInHPD.head(130)\n",
    "\n",
    "\n",
    "# Select the color map\n",
    "cmap = plt.cm.get_cmap(name='tab10')\n",
    "\n",
    "fig, ax = plt.subplots(figsize=(20, 10))\n",
    "for i in range(240):\n",
    "    mark = \"\"\n",
    "    if i < 24:\n",
    "        mark=\"o\"\n",
    "    elif i < 48:\n",
    "        mark=\"v\"\n",
    "    elif i < 72:\n",
    "        mark=\"^\"\n",
    "    elif i < 96:\n",
    "        mark=\"<\"\n",
    "    elif i < 120:\n",
    "        mark=\">\"\n",
    "    elif i < 144:\n",
    "        mark=\"8\"\n",
    "    elif i < 168:\n",
    "        mark=\"s\"\n",
    "    elif i < 192:\n",
    "        mark=\"p\"\n",
    "    elif i < 216:\n",
    "        mark=\"*\"\n",
    "    else:\n",
    "        mark=\"h\"\n",
    "    ax.plot(i, fracInHPD[\"var\"][i], mark, color = cmap(i % 6))\n",
    "\n",
    "patches=list()\n",
    "patches.append(matplotlib.patches.Patch(color=cmap(0), label='0 constraint'))\n",
    "patches.append(matplotlib.patches.Patch(color=cmap(1), label='1 constraints'))\n",
    "patches.append(matplotlib.patches.Patch(color=cmap(2), label='3 constraints'))\n",
    "patches.append(matplotlib.patches.Patch(color=cmap(3), label='5 constraints'))\n",
    "patches.append(matplotlib.patches.Patch(color=cmap(4), label='20 constraints'))\n",
    "patches.append(matplotlib.patches.Patch(color=cmap(5), label='50 constraints'))\n",
    "\n",
    "\n",
    "ax.legend(handles=patches)\n",
    "\n",
    "plt.xlabel(\"Condition\", fontsize=15)\n",
    "plt.ylabel(\"Standard deviation in fraction of nodes in 95% HPD\", fontsize=15)\n"
   ]
  },
  {
   "cell_type": "code",
   "execution_count": null,
   "metadata": {
    "scrolled": true
   },
   "outputs": [],
   "source": [
    "%matplotlib inline\n",
    "\n",
    "percent50=pd.DataFrame({'var' : d.groupby( [\"treeId\",\"numCalib\",\"numCons\"] )[\"percent50\"].std()}).reset_index()\n",
    "\n",
    "\n",
    "# Select the color map\n",
    "cmap = plt.cm.get_cmap(name='tab10')\n",
    "\n",
    "fig, ax = plt.subplots(figsize=(20, 10))\n",
    "for i in range(240):\n",
    "    mark = \"\"\n",
    "    if i < 24:\n",
    "        mark=\"o\"\n",
    "    elif i < 48:\n",
    "        mark=\"v\"\n",
    "    elif i < 72:\n",
    "        mark=\"^\"\n",
    "    elif i < 96:\n",
    "        mark=\"<\"\n",
    "    elif i < 120:\n",
    "        mark=\">\"\n",
    "    elif i < 144:\n",
    "        mark=\"8\"\n",
    "    elif i < 168:\n",
    "        mark=\"s\"\n",
    "    elif i < 192:\n",
    "        mark=\"p\"\n",
    "    elif i < 216:\n",
    "        mark=\"*\"\n",
    "    else:\n",
    "        mark=\"h\"\n",
    "    ax.plot(i, percent50[\"var\"][i], mark, color = cmap(i % 4))\n",
    "\n",
    "patches=list()\n",
    "patches.append(matplotlib.patches.Patch(color=cmap(0), label='0 constraint'))\n",
    "patches.append(matplotlib.patches.Patch(color=cmap(1), label='1 constraints'))\n",
    "patches.append(matplotlib.patches.Patch(color=cmap(2), label='3 constraints'))\n",
    "patches.append(matplotlib.patches.Patch(color=cmap(3), label='5 constraints'))\n",
    "patches.append(matplotlib.patches.Patch(color=cmap(4), label='20 constraints'))\n",
    "patches.append(matplotlib.patches.Patch(color=cmap(5), label='50 constraints'))\n",
    "\n",
    "\n",
    "ax.legend(handles=patches)\n",
    "\n",
    "plt.xlabel(\"Condition\", fontsize=15)\n",
    "plt.ylabel(\"Standard deviation in median 95% HPD size\", fontsize=15)\n"
   ]
  },
  {
   "cell_type": "markdown",
   "metadata": {},
   "source": [
    "### Partial conclusion on the above\n",
    "It's hard to come up with much to say about the above graphs, except that even controlling for a given number of constraints on a given tree, there can be variation in the accuracy or the 95% HPD. This is expected given that constraints could be positioned on different nodes of the tree."
   ]
  },
  {
   "cell_type": "markdown",
   "metadata": {},
   "source": [
    "## Variation among replicates, controlling for a given set of conditions, focusing on calibrations\n",
    "For a given number of constraints, calibrations, and a given tree, we want to assess how variable the results are, focusing on the impact of calibrations (whose number has been color-coded)."
   ]
  },
  {
   "cell_type": "code",
   "execution_count": null,
   "metadata": {},
   "outputs": [],
   "source": [
    "# Group analyses by tree, and recover correlation only\n",
    "cors=pd.DataFrame({'var' : d.groupby( [\"treeId\",\"numCons\", \"numCalib\"] )[\"correlation\"].std()}).reset_index()\n",
    "\n",
    "# Let's drop the case with 100 constraints\n",
    "cors = cors[cors[\"numCons\"] != 100]\n",
    "cors = cors.reset_index(drop=True)\n",
    "cors.head(130)\n"
   ]
  },
  {
   "cell_type": "code",
   "execution_count": null,
   "metadata": {
    "scrolled": true
   },
   "outputs": [],
   "source": [
    "%matplotlib inline\n",
    "\n",
    "\n",
    "# Select the color map named tab10\n",
    "cmap = plt.cm.get_cmap(name='tab10')\n",
    "\n",
    "\n",
    "fig, ax = plt.subplots(figsize=(20, 10))\n",
    "for i in range(240):\n",
    "    mark = \"\"\n",
    "    if i < 24:\n",
    "        mark=\"o\"\n",
    "    elif i < 48:\n",
    "        mark=\"v\"\n",
    "    elif i < 72:\n",
    "        mark=\"^\"\n",
    "    elif i < 96:\n",
    "        mark=\"<\"\n",
    "    elif i < 120:\n",
    "        mark=\">\"\n",
    "    elif i < 144:\n",
    "        mark=\"8\"\n",
    "    elif i < 168:\n",
    "        mark=\"s\"\n",
    "    elif i < 192:\n",
    "        mark=\"p\"\n",
    "    elif i < 216:\n",
    "        mark=\"*\"\n",
    "    else:\n",
    "        mark=\"h\"\n",
    "    ax.plot(i, cors[\"var\"][i], mark, color = cmap(i % 4))\n",
    "\n",
    "patches=list()\n",
    "patches.append(matplotlib.patches.Patch(color=cmap(0), label='0 calibration'))\n",
    "patches.append(matplotlib.patches.Patch(color=cmap(1), label='1 calibrations'))\n",
    "patches.append(matplotlib.patches.Patch(color=cmap(2), label='3 calibrations'))\n",
    "patches.append(matplotlib.patches.Patch(color=cmap(3), label='5 calibrations'))\n",
    "\n",
    "\n",
    "ax.legend(handles=patches)\n",
    "\n",
    "plt.xlabel(\"Condition\", fontsize=15)\n",
    "plt.ylabel(\"Standard deviation in correlation\", fontsize=15)\n"
   ]
  },
  {
   "cell_type": "code",
   "execution_count": null,
   "metadata": {},
   "outputs": [],
   "source": [
    "%matplotlib inline\n",
    "\n",
    "fracInHPD=pd.DataFrame({'var' : d.groupby( [\"treeId\",\"numCons\", \"numCalib\"] )[\"rmsd\"].std()}).reset_index()\n",
    "\n",
    "\n",
    "# Let's drop the case with 100 constraints\n",
    "rmsd = rmsd[rmsd[\"numCons\"] != 100]\n",
    "rmsd = rmsd.reset_index(drop=True)\n",
    "rmsd.head(130)\n",
    "\n",
    "fig, ax = plt.subplots(figsize=(20, 10))\n",
    "for i in range(240):\n",
    "    mark = \"\"\n",
    "    if i < 24:\n",
    "        mark=\"o\"\n",
    "    elif i < 48:\n",
    "        mark=\"v\"\n",
    "    elif i < 72:\n",
    "        mark=\"^\"\n",
    "    elif i < 96:\n",
    "        mark=\"<\"\n",
    "    elif i < 120:\n",
    "        mark=\">\"\n",
    "    elif i < 144:\n",
    "        mark=\"8\"\n",
    "    elif i < 168:\n",
    "        mark=\"s\"\n",
    "    elif i < 192:\n",
    "        mark=\"p\"\n",
    "    elif i < 216:\n",
    "        mark=\"*\"\n",
    "    else:\n",
    "        mark=\"h\"\n",
    "    ax.plot(i, rmsd[\"var\"][i], mark, color = cmap(i % 4))\n",
    "\n",
    "patches=list()\n",
    "patches.append(matplotlib.patches.Patch(color=cmap(0), label='0 calibration'))\n",
    "patches.append(matplotlib.patches.Patch(color=cmap(1), label='1 calibrations'))\n",
    "patches.append(matplotlib.patches.Patch(color=cmap(2), label='3 calibrations'))\n",
    "patches.append(matplotlib.patches.Patch(color=cmap(3), label='5 calibrations'))\n",
    "\n",
    "\n",
    "ax.legend(handles=patches)\n",
    "\n",
    "plt.xlabel(\"Condition\", fontsize=15)\n",
    "plt.ylabel(\"Standard deviation in node age rmsd\", fontsize=15)\n"
   ]
  },
  {
   "cell_type": "code",
   "execution_count": null,
   "metadata": {
    "scrolled": true
   },
   "outputs": [],
   "source": [
    "%matplotlib inline\n",
    "\n",
    "fracInHPD=pd.DataFrame({'var' : d.groupby( [\"treeId\",\"numCons\", \"numCalib\"] )[\"fracInHPD\"].std()}).reset_index()\n",
    "\n",
    "\n",
    "# Let's drop the case with 100 constraints\n",
    "fracInHPD = fracInHPD[fracInHPD[\"numCons\"] != 100]\n",
    "fracInHPD = fracInHPD.reset_index(drop=True)\n",
    "fracInHPD.head(130)\n",
    "\n",
    "fig, ax = plt.subplots(figsize=(20, 10))\n",
    "for i in range(240):\n",
    "    mark = \"\"\n",
    "    if i < 24:\n",
    "        mark=\"o\"\n",
    "    elif i < 48:\n",
    "        mark=\"v\"\n",
    "    elif i < 72:\n",
    "        mark=\"^\"\n",
    "    elif i < 96:\n",
    "        mark=\"<\"\n",
    "    elif i < 120:\n",
    "        mark=\">\"\n",
    "    elif i < 144:\n",
    "        mark=\"8\"\n",
    "    elif i < 168:\n",
    "        mark=\"s\"\n",
    "    elif i < 192:\n",
    "        mark=\"p\"\n",
    "    elif i < 216:\n",
    "        mark=\"*\"\n",
    "    else:\n",
    "        mark=\"h\"\n",
    "    ax.plot(i, fracInHPD[\"var\"][i], mark, color = cmap(i % 4))\n",
    "\n",
    "patches=list()\n",
    "patches.append(matplotlib.patches.Patch(color=cmap(0), label='0 calibration'))\n",
    "patches.append(matplotlib.patches.Patch(color=cmap(1), label='1 calibrations'))\n",
    "patches.append(matplotlib.patches.Patch(color=cmap(2), label='3 calibrations'))\n",
    "patches.append(matplotlib.patches.Patch(color=cmap(3), label='5 calibrations'))\n",
    "\n",
    "\n",
    "ax.legend(handles=patches)\n",
    "\n",
    "plt.xlabel(\"Condition\", fontsize=15)\n",
    "plt.ylabel(\"Standard deviation in fraction of nodes in 95% HPD\", fontsize=15)\n"
   ]
  },
  {
   "cell_type": "code",
   "execution_count": null,
   "metadata": {
    "scrolled": true
   },
   "outputs": [],
   "source": [
    "%matplotlib inline\n",
    "\n",
    "percent50=pd.DataFrame({'var' : d.groupby( [\"treeId\",\"numCons\", \"numCalib\"] )[\"percent50\"].std()}).reset_index()\n",
    "\n",
    "# Let's drop the case with 100 constraints\n",
    "percent50 = percent50[percent50[\"numCons\"] != 100]\n",
    "percent50 = percent50.reset_index(drop=True)\n",
    "percent50.head(130)\n",
    "\n",
    "fig, ax = plt.subplots(figsize=(20, 10))\n",
    "for i in range(240):\n",
    "    mark = \"\"\n",
    "    if i < 24:\n",
    "        mark=\"o\"\n",
    "    elif i < 48:\n",
    "        mark=\"v\"\n",
    "    elif i < 72:\n",
    "        mark=\"^\"\n",
    "    elif i < 96:\n",
    "        mark=\"<\"\n",
    "    elif i < 120:\n",
    "        mark=\">\"\n",
    "    elif i < 144:\n",
    "        mark=\"8\"\n",
    "    elif i < 168:\n",
    "        mark=\"s\"\n",
    "    elif i < 192:\n",
    "        mark=\"p\"\n",
    "    elif i < 216:\n",
    "        mark=\"*\"\n",
    "    else:\n",
    "        mark=\"h\"\n",
    "    ax.plot(i, percent50[\"var\"][i], mark, color = cmap(i % 4))\n",
    "\n",
    "patches=list()\n",
    "patches.append(matplotlib.patches.Patch(color=cmap(0), label='0 calibration'))\n",
    "patches.append(matplotlib.patches.Patch(color=cmap(1), label='1 calibrations'))\n",
    "patches.append(matplotlib.patches.Patch(color=cmap(2), label='3 calibrations'))\n",
    "patches.append(matplotlib.patches.Patch(color=cmap(3), label='5 calibrations'))\n",
    "\n",
    "\n",
    "ax.legend(handles=patches)\n",
    "\n",
    "plt.xlabel(\"Condition\", fontsize=15)\n",
    "plt.ylabel(\"Standard deviation in median 95% HPD size\", fontsize=15)\n"
   ]
  },
  {
   "cell_type": "markdown",
   "metadata": {},
   "source": [
    "### Partial conclusion on the above\n",
    "Similarly to the analyses focusing on the number of constraints, there can be some variation in some conditions, even with 5 calibrations."
   ]
  },
  {
   "cell_type": "markdown",
   "metadata": {},
   "source": [
    "# Analysis of variation among replicates, another visualization"
   ]
  },
  {
   "cell_type": "code",
   "execution_count": null,
   "metadata": {},
   "outputs": [],
   "source": []
  },
  {
   "cell_type": "markdown",
   "metadata": {
    "collapsed": true
   },
   "source": [
    "## Analysis of mixing in a random replicate\n",
    "Here we just look at how well the MCMC seems to mix in a particular example, on tree 9, with varying numbers of constraints. "
   ]
  },
  {
   "cell_type": "code",
   "execution_count": null,
   "metadata": {},
   "outputs": [],
   "source": [
    "d0=pd.read_csv (\"output/9_0_0_1.log\", sep=\"\\t\")\n",
    "d1=pd.read_csv (\"output/9_0_1_1.log\", sep=\"\\t\")\n",
    "d3=pd.read_csv (\"output/9_0_3_1.log\", sep=\"\\t\")\n",
    "d5=pd.read_csv (\"output/9_0_5_1.log\", sep=\"\\t\")\n",
    "d10=pd.read_csv (\"output/9_0_10_1.log\", sep=\"\\t\")\n",
    "d20=pd.read_csv (\"output/9_0_20_1.log\", sep=\"\\t\")\n",
    "d50=pd.read_csv (\"output/9_0_50_1.log\", sep=\"\\t\")\n",
    "\n",
    "d1.describe()\n"
   ]
  },
  {
   "cell_type": "code",
   "execution_count": null,
   "metadata": {},
   "outputs": [],
   "source": [
    "%matplotlib inline\n",
    "\n",
    "fig, ax = plt.subplots(7, figsize=(20, 10))\n",
    "p1, = ax[0].plot(d0['Iteration'], d0['Posterior'], 'b-')\n",
    "p2, = ax[1].plot(d1['Iteration'], d1['Posterior'], 'b-')\n",
    "p3, = ax[2].plot(d3['Iteration'], d3['Posterior'], 'b-')\n",
    "p4, = ax[3].plot(d5['Iteration'], d5['Posterior'], 'b-')\n",
    "p5, = ax[4].plot(d10['Iteration'], d10['Posterior'], 'b-')\n",
    "p6, = ax[5].plot(d20['Iteration'], d20['Posterior'], 'b-')\n",
    "p7, = ax[6].plot(d50['Iteration'], d50['Posterior'], 'b-')\n",
    "\n",
    "#cal, = ax[1].plot(d2['Iteration'], d2['Posterior'], 'g-')\n",
    "#con, = ax[2].plot(d3['Iteration'], d3['Posterior'], 'r-')\n",
    "\n",
    "ax[0].legend([p1], ['0 constraint'], loc='lower right')\n",
    "ax[1].legend([p2], ['1 constraint'], loc='lower right')\n",
    "ax[2].legend([p3], ['3 constraints'], loc='lower right')\n",
    "ax[3].legend([p4], ['5 constraints'], loc='lower right')\n",
    "ax[4].legend([p5], ['10 constraints'], loc='lower right')\n",
    "ax[5].legend([p6], ['20 constraints'], loc='lower right')\n",
    "ax[6].legend([p7], ['50 constraints'], loc='lower right')\n",
    "\n",
    "#ax[1].legend([cal], ['Run 2'], loc='lower right')\n",
    "#ax[2].legend([con], ['Run 3'], loc='lower right')\n",
    "\n",
    "plt.xlabel(\"Iteration\", fontsize=15)\n",
    "plt.ylabel(\"Posterior\", fontsize=15);"
   ]
  },
  {
   "cell_type": "markdown",
   "metadata": {},
   "source": [
    "### Partial conclusion on the above\n",
    "From this very quick look, the mixing does not seem too problematic."
   ]
  },
  {
   "cell_type": "markdown",
   "metadata": {
    "collapsed": true
   },
   "source": [
    "# Conclusion"
   ]
  },
  {
   "cell_type": "markdown",
   "metadata": {},
   "source": [
    "From these analyses, I would say:\n",
    "* Mixing of the MCMC does not seem too worrysome.\n",
    "* Calibrations help a lot.\n",
    "* Constraints help too, but probably a bit less. In particular, they have less of an effect on the reduction of 95% HPD. They tend to help for node age correlation, but not as much for branch lengths and rmsd.\n",
    "* However, using a large number of constraints or all constraints does produce good chronograms according to the metrics I used.\n",
    "* Focusing on easy trees or on the hard trees does not help much, although it seems like constraints may help a little bit more on easier trees. But given that constraints have their greatest impact on node age correlation, and that those correlations are very good on easy trees, it's not clear performing more easy simulations is going to help characterize the effect of constraints."
   ]
  },
  {
   "cell_type": "code",
   "execution_count": null,
   "metadata": {},
   "outputs": [],
   "source": []
  }
 ],
 "metadata": {
  "kernelspec": {
   "display_name": "Python 3",
   "language": "python",
   "name": "python3"
  },
  "language_info": {
   "codemirror_mode": {
    "name": "ipython",
    "version": 3
   },
   "file_extension": ".py",
   "mimetype": "text/x-python",
   "name": "python",
   "nbconvert_exporter": "python",
   "pygments_lexer": "ipython3",
   "version": "3.7.3"
  }
 },
 "nbformat": 4,
 "nbformat_minor": 2
}
